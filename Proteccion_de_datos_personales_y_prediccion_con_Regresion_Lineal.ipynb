{
 "cells": [
  {
   "cell_type": "markdown",
   "metadata": {},
   "source": [
    "# Descripción del Proyecto"
   ]
  },
  {
   "cell_type": "markdown",
   "metadata": {},
   "source": [
    "Resolveremos varias tareas con la ayuda de machine learning para la compañía de seguros 'Sure Tomorrow':\n",
    "\n",
    "**Tarea 1:**\n",
    "- Encontrar clientes que sean similares a un cliente determinado. Esto ayudará a los agentes de la compañía con el marketing.\n",
    "\n",
    "**Tarea 2:**\n",
    "- Predecir la probabilidad de que un nuevo cliente reciba una prestación del seguro. ¿Puede un modelo predictivo funcionar mejor que un modelo dummy?\n",
    "\n",
    "**Tarea 3:**\n",
    "- Predecir el número de prestaciones de seguro que un nuevo cliente pueda recibir utilizando un modelo de regresión lineal.\n",
    "\n",
    "**Tarea 4:** \n",
    "- Proteger los datos personales de los clientes sin afectar al modelo. Es necesario desarrollar un algoritmo de transformación de datos que dificulte la recuperación de la información personal si los datos llegaran a caer en manos equivocadas. Esto se denomina **enmascaramiento u ofuscación de datos**. Pero los datos deben protegerse de tal manera que no se vea afectada la calidad de los modelos de machine learning."
   ]
  },
  {
   "cell_type": "markdown",
   "metadata": {},
   "source": [
    "## Inicialización"
   ]
  },
  {
   "cell_type": "code",
   "execution_count": 105,
   "metadata": {},
   "outputs": [
    {
     "name": "stdout",
     "output_type": "stream",
     "text": [
      "Requirement already satisfied: scikit-learn in c:\\users\\t3r4byt3\\anaconda3\\lib\\site-packages (1.6.0)Note: you may need to restart the kernel to use updated packages.\n",
      "\n",
      "Requirement already satisfied: numpy>=1.19.5 in c:\\users\\t3r4byt3\\anaconda3\\lib\\site-packages (from scikit-learn) (1.24.3)\n",
      "Requirement already satisfied: scipy>=1.6.0 in c:\\users\\t3r4byt3\\anaconda3\\lib\\site-packages (from scikit-learn) (1.11.4)\n",
      "Requirement already satisfied: joblib>=1.2.0 in c:\\users\\t3r4byt3\\anaconda3\\lib\\site-packages (from scikit-learn) (1.2.0)\n",
      "Requirement already satisfied: threadpoolctl>=3.1.0 in c:\\users\\t3r4byt3\\anaconda3\\lib\\site-packages (from scikit-learn) (3.5.0)\n"
     ]
    }
   ],
   "source": [
    "pip install scikit-learn --upgrade"
   ]
  },
  {
   "cell_type": "markdown",
   "metadata": {},
   "source": [
    "# Descripción de los datos"
   ]
  },
  {
   "cell_type": "markdown",
   "metadata": {},
   "source": [
    "- **Características:** `sexo`, `edad`, `salario` y `número de familiares` de la persona asegurada.\n",
    "- **Objetivo:** `número de beneficios de seguro` recibidos por una persona asegurada en los últimos cinco años."
   ]
  },
  {
   "cell_type": "markdown",
   "metadata": {},
   "source": [
    "# Importamos librerias y cargamos datos"
   ]
  },
  {
   "cell_type": "code",
   "execution_count": 54,
   "metadata": {},
   "outputs": [],
   "source": [
    "import numpy as np\n",
    "import pandas as pd\n",
    "import matplotlib.pyplot as plt\n",
    "import math\n",
    "\n",
    "import seaborn as sns\n",
    "\n",
    "import sklearn.linear_model\n",
    "import sklearn.metrics\n",
    "import sklearn.neighbors\n",
    "from sklearn.neighbors import NearestNeighbors\n",
    "import sklearn.preprocessing\n",
    "from sklearn.metrics import confusion_matrix, f1_score\n",
    "from sklearn.metrics import mean_squared_error\n",
    "\n",
    "from sklearn.model_selection import train_test_split\n",
    "\n",
    "from IPython.display import display"
   ]
  },
  {
   "cell_type": "code",
   "execution_count": 55,
   "metadata": {},
   "outputs": [],
   "source": [
    "#leemos los datos\n",
    "df = pd.read_csv('https://practicum-content.s3.us-west-1.amazonaws.com/datasets/insurance_us.csv')"
   ]
  },
  {
   "cell_type": "markdown",
   "metadata": {},
   "source": [
    "# Preprocesamiento  y análisis exploratorio de datos"
   ]
  },
  {
   "cell_type": "code",
   "execution_count": 56,
   "metadata": {},
   "outputs": [
    {
     "name": "stdout",
     "output_type": "stream",
     "text": [
      "<class 'pandas.core.frame.DataFrame'>\n",
      "RangeIndex: 5000 entries, 0 to 4999\n",
      "Data columns (total 5 columns):\n",
      " #   Column              Non-Null Count  Dtype  \n",
      "---  ------              --------------  -----  \n",
      " 0   Gender              5000 non-null   int64  \n",
      " 1   Age                 5000 non-null   float64\n",
      " 2   Salary              5000 non-null   float64\n",
      " 3   Family members      5000 non-null   int64  \n",
      " 4   Insurance benefits  5000 non-null   int64  \n",
      "dtypes: float64(2), int64(3)\n",
      "memory usage: 195.4 KB\n"
     ]
    }
   ],
   "source": [
    "df.info()"
   ]
  },
  {
   "cell_type": "code",
   "execution_count": 57,
   "metadata": {},
   "outputs": [
    {
     "data": {
      "text/plain": [
       "Gender                0\n",
       "Age                   0\n",
       "Salary                0\n",
       "Family members        0\n",
       "Insurance benefits    0\n",
       "dtype: int64"
      ]
     },
     "execution_count": 57,
     "metadata": {},
     "output_type": "execute_result"
    }
   ],
   "source": [
    "df.isna().sum()"
   ]
  },
  {
   "cell_type": "code",
   "execution_count": 58,
   "metadata": {},
   "outputs": [
    {
     "data": {
      "text/plain": [
       "(5000, 5)"
      ]
     },
     "execution_count": 58,
     "metadata": {},
     "output_type": "execute_result"
    }
   ],
   "source": [
    "df.shape"
   ]
  },
  {
   "cell_type": "code",
   "execution_count": 59,
   "metadata": {},
   "outputs": [
    {
     "data": {
      "text/html": [
       "<div>\n",
       "<style scoped>\n",
       "    .dataframe tbody tr th:only-of-type {\n",
       "        vertical-align: middle;\n",
       "    }\n",
       "\n",
       "    .dataframe tbody tr th {\n",
       "        vertical-align: top;\n",
       "    }\n",
       "\n",
       "    .dataframe thead th {\n",
       "        text-align: right;\n",
       "    }\n",
       "</style>\n",
       "<table border=\"1\" class=\"dataframe\">\n",
       "  <thead>\n",
       "    <tr style=\"text-align: right;\">\n",
       "      <th></th>\n",
       "      <th>Gender</th>\n",
       "      <th>Age</th>\n",
       "      <th>Salary</th>\n",
       "      <th>Family members</th>\n",
       "      <th>Insurance benefits</th>\n",
       "    </tr>\n",
       "  </thead>\n",
       "  <tbody>\n",
       "    <tr>\n",
       "      <th>0</th>\n",
       "      <td>1</td>\n",
       "      <td>41.0</td>\n",
       "      <td>49600.0</td>\n",
       "      <td>1</td>\n",
       "      <td>0</td>\n",
       "    </tr>\n",
       "    <tr>\n",
       "      <th>1</th>\n",
       "      <td>0</td>\n",
       "      <td>46.0</td>\n",
       "      <td>38000.0</td>\n",
       "      <td>1</td>\n",
       "      <td>1</td>\n",
       "    </tr>\n",
       "    <tr>\n",
       "      <th>2</th>\n",
       "      <td>0</td>\n",
       "      <td>29.0</td>\n",
       "      <td>21000.0</td>\n",
       "      <td>0</td>\n",
       "      <td>0</td>\n",
       "    </tr>\n",
       "    <tr>\n",
       "      <th>3</th>\n",
       "      <td>0</td>\n",
       "      <td>21.0</td>\n",
       "      <td>41700.0</td>\n",
       "      <td>2</td>\n",
       "      <td>0</td>\n",
       "    </tr>\n",
       "    <tr>\n",
       "      <th>4</th>\n",
       "      <td>1</td>\n",
       "      <td>28.0</td>\n",
       "      <td>26100.0</td>\n",
       "      <td>0</td>\n",
       "      <td>0</td>\n",
       "    </tr>\n",
       "  </tbody>\n",
       "</table>\n",
       "</div>"
      ],
      "text/plain": [
       "   Gender   Age   Salary  Family members  Insurance benefits\n",
       "0       1  41.0  49600.0               1                   0\n",
       "1       0  46.0  38000.0               1                   1\n",
       "2       0  29.0  21000.0               0                   0\n",
       "3       0  21.0  41700.0               2                   0\n",
       "4       1  28.0  26100.0               0                   0"
      ]
     },
     "execution_count": 59,
     "metadata": {},
     "output_type": "execute_result"
    }
   ],
   "source": [
    "df.head()"
   ]
  },
  {
   "cell_type": "markdown",
   "metadata": {},
   "source": [
    "Renombraremos columnas que lo necesiten para que el código se vea más coherente."
   ]
  },
  {
   "cell_type": "code",
   "execution_count": 60,
   "metadata": {},
   "outputs": [],
   "source": [
    "df = df.rename(columns={'Gender': 'gender', 'Age': 'age', 'Salary': 'income', 'Family members': 'family_members', 'Insurance benefits': 'insurance_benefits'})"
   ]
  },
  {
   "cell_type": "code",
   "execution_count": 61,
   "metadata": {},
   "outputs": [
    {
     "data": {
      "text/html": [
       "<div>\n",
       "<style scoped>\n",
       "    .dataframe tbody tr th:only-of-type {\n",
       "        vertical-align: middle;\n",
       "    }\n",
       "\n",
       "    .dataframe tbody tr th {\n",
       "        vertical-align: top;\n",
       "    }\n",
       "\n",
       "    .dataframe thead th {\n",
       "        text-align: right;\n",
       "    }\n",
       "</style>\n",
       "<table border=\"1\" class=\"dataframe\">\n",
       "  <thead>\n",
       "    <tr style=\"text-align: right;\">\n",
       "      <th></th>\n",
       "      <th>gender</th>\n",
       "      <th>age</th>\n",
       "      <th>income</th>\n",
       "      <th>family_members</th>\n",
       "      <th>insurance_benefits</th>\n",
       "    </tr>\n",
       "  </thead>\n",
       "  <tbody>\n",
       "    <tr>\n",
       "      <th>2584</th>\n",
       "      <td>1</td>\n",
       "      <td>20.0</td>\n",
       "      <td>33600.0</td>\n",
       "      <td>0</td>\n",
       "      <td>0</td>\n",
       "    </tr>\n",
       "    <tr>\n",
       "      <th>2743</th>\n",
       "      <td>1</td>\n",
       "      <td>34.0</td>\n",
       "      <td>31400.0</td>\n",
       "      <td>1</td>\n",
       "      <td>0</td>\n",
       "    </tr>\n",
       "    <tr>\n",
       "      <th>87</th>\n",
       "      <td>0</td>\n",
       "      <td>28.0</td>\n",
       "      <td>45900.0</td>\n",
       "      <td>0</td>\n",
       "      <td>0</td>\n",
       "    </tr>\n",
       "    <tr>\n",
       "      <th>4952</th>\n",
       "      <td>0</td>\n",
       "      <td>29.0</td>\n",
       "      <td>31700.0</td>\n",
       "      <td>1</td>\n",
       "      <td>0</td>\n",
       "    </tr>\n",
       "    <tr>\n",
       "      <th>2281</th>\n",
       "      <td>1</td>\n",
       "      <td>30.0</td>\n",
       "      <td>37200.0</td>\n",
       "      <td>1</td>\n",
       "      <td>0</td>\n",
       "    </tr>\n",
       "    <tr>\n",
       "      <th>2594</th>\n",
       "      <td>0</td>\n",
       "      <td>25.0</td>\n",
       "      <td>59500.0</td>\n",
       "      <td>1</td>\n",
       "      <td>0</td>\n",
       "    </tr>\n",
       "    <tr>\n",
       "      <th>1924</th>\n",
       "      <td>1</td>\n",
       "      <td>38.0</td>\n",
       "      <td>42300.0</td>\n",
       "      <td>2</td>\n",
       "      <td>0</td>\n",
       "    </tr>\n",
       "    <tr>\n",
       "      <th>170</th>\n",
       "      <td>1</td>\n",
       "      <td>37.0</td>\n",
       "      <td>54600.0</td>\n",
       "      <td>1</td>\n",
       "      <td>0</td>\n",
       "    </tr>\n",
       "    <tr>\n",
       "      <th>1483</th>\n",
       "      <td>0</td>\n",
       "      <td>37.0</td>\n",
       "      <td>42500.0</td>\n",
       "      <td>1</td>\n",
       "      <td>0</td>\n",
       "    </tr>\n",
       "    <tr>\n",
       "      <th>33</th>\n",
       "      <td>0</td>\n",
       "      <td>31.0</td>\n",
       "      <td>28100.0</td>\n",
       "      <td>0</td>\n",
       "      <td>0</td>\n",
       "    </tr>\n",
       "  </tbody>\n",
       "</table>\n",
       "</div>"
      ],
      "text/plain": [
       "      gender   age   income  family_members  insurance_benefits\n",
       "2584       1  20.0  33600.0               0                   0\n",
       "2743       1  34.0  31400.0               1                   0\n",
       "87         0  28.0  45900.0               0                   0\n",
       "4952       0  29.0  31700.0               1                   0\n",
       "2281       1  30.0  37200.0               1                   0\n",
       "2594       0  25.0  59500.0               1                   0\n",
       "1924       1  38.0  42300.0               2                   0\n",
       "170        1  37.0  54600.0               1                   0\n",
       "1483       0  37.0  42500.0               1                   0\n",
       "33         0  31.0  28100.0               0                   0"
      ]
     },
     "execution_count": 61,
     "metadata": {},
     "output_type": "execute_result"
    }
   ],
   "source": [
    "df.sample(10)"
   ]
  },
  {
   "cell_type": "code",
   "execution_count": 62,
   "metadata": {},
   "outputs": [],
   "source": [
    "# puede que queramos cambiar el tipo de edad (de float a int) aunque esto no es crucial\n",
    "df['age'] = df['age'].astype(int)"
   ]
  },
  {
   "cell_type": "code",
   "execution_count": 63,
   "metadata": {},
   "outputs": [
    {
     "data": {
      "text/plain": [
       "dtype('int32')"
      ]
     },
     "execution_count": 63,
     "metadata": {},
     "output_type": "execute_result"
    }
   ],
   "source": [
    "# comprueba que la conversión se haya realizado con éxito\n",
    "df['age'].dtypes"
   ]
  },
  {
   "cell_type": "markdown",
   "metadata": {},
   "source": [
    "Revisamos si existen valores duplicados"
   ]
  },
  {
   "cell_type": "code",
   "execution_count": 64,
   "metadata": {},
   "outputs": [
    {
     "data": {
      "text/html": [
       "<div>\n",
       "<style scoped>\n",
       "    .dataframe tbody tr th:only-of-type {\n",
       "        vertical-align: middle;\n",
       "    }\n",
       "\n",
       "    .dataframe tbody tr th {\n",
       "        vertical-align: top;\n",
       "    }\n",
       "\n",
       "    .dataframe thead th {\n",
       "        text-align: right;\n",
       "    }\n",
       "</style>\n",
       "<table border=\"1\" class=\"dataframe\">\n",
       "  <thead>\n",
       "    <tr style=\"text-align: right;\">\n",
       "      <th></th>\n",
       "      <th>gender</th>\n",
       "      <th>age</th>\n",
       "      <th>income</th>\n",
       "      <th>family_members</th>\n",
       "      <th>insurance_benefits</th>\n",
       "    </tr>\n",
       "  </thead>\n",
       "  <tbody>\n",
       "    <tr>\n",
       "      <th>281</th>\n",
       "      <td>1</td>\n",
       "      <td>39</td>\n",
       "      <td>48100.0</td>\n",
       "      <td>1</td>\n",
       "      <td>0</td>\n",
       "    </tr>\n",
       "    <tr>\n",
       "      <th>488</th>\n",
       "      <td>1</td>\n",
       "      <td>24</td>\n",
       "      <td>32900.0</td>\n",
       "      <td>1</td>\n",
       "      <td>0</td>\n",
       "    </tr>\n",
       "    <tr>\n",
       "      <th>513</th>\n",
       "      <td>0</td>\n",
       "      <td>31</td>\n",
       "      <td>37400.0</td>\n",
       "      <td>2</td>\n",
       "      <td>0</td>\n",
       "    </tr>\n",
       "    <tr>\n",
       "      <th>718</th>\n",
       "      <td>1</td>\n",
       "      <td>22</td>\n",
       "      <td>32600.0</td>\n",
       "      <td>1</td>\n",
       "      <td>0</td>\n",
       "    </tr>\n",
       "    <tr>\n",
       "      <th>785</th>\n",
       "      <td>0</td>\n",
       "      <td>20</td>\n",
       "      <td>35800.0</td>\n",
       "      <td>0</td>\n",
       "      <td>0</td>\n",
       "    </tr>\n",
       "    <tr>\n",
       "      <th>...</th>\n",
       "      <td>...</td>\n",
       "      <td>...</td>\n",
       "      <td>...</td>\n",
       "      <td>...</td>\n",
       "      <td>...</td>\n",
       "    </tr>\n",
       "    <tr>\n",
       "      <th>4793</th>\n",
       "      <td>1</td>\n",
       "      <td>24</td>\n",
       "      <td>37800.0</td>\n",
       "      <td>0</td>\n",
       "      <td>0</td>\n",
       "    </tr>\n",
       "    <tr>\n",
       "      <th>4902</th>\n",
       "      <td>1</td>\n",
       "      <td>35</td>\n",
       "      <td>38700.0</td>\n",
       "      <td>1</td>\n",
       "      <td>0</td>\n",
       "    </tr>\n",
       "    <tr>\n",
       "      <th>4935</th>\n",
       "      <td>1</td>\n",
       "      <td>19</td>\n",
       "      <td>32700.0</td>\n",
       "      <td>0</td>\n",
       "      <td>0</td>\n",
       "    </tr>\n",
       "    <tr>\n",
       "      <th>4945</th>\n",
       "      <td>1</td>\n",
       "      <td>21</td>\n",
       "      <td>45800.0</td>\n",
       "      <td>0</td>\n",
       "      <td>0</td>\n",
       "    </tr>\n",
       "    <tr>\n",
       "      <th>4965</th>\n",
       "      <td>0</td>\n",
       "      <td>22</td>\n",
       "      <td>40100.0</td>\n",
       "      <td>1</td>\n",
       "      <td>0</td>\n",
       "    </tr>\n",
       "  </tbody>\n",
       "</table>\n",
       "<p>153 rows × 5 columns</p>\n",
       "</div>"
      ],
      "text/plain": [
       "      gender  age   income  family_members  insurance_benefits\n",
       "281        1   39  48100.0               1                   0\n",
       "488        1   24  32900.0               1                   0\n",
       "513        0   31  37400.0               2                   0\n",
       "718        1   22  32600.0               1                   0\n",
       "785        0   20  35800.0               0                   0\n",
       "...      ...  ...      ...             ...                 ...\n",
       "4793       1   24  37800.0               0                   0\n",
       "4902       1   35  38700.0               1                   0\n",
       "4935       1   19  32700.0               0                   0\n",
       "4945       1   21  45800.0               0                   0\n",
       "4965       0   22  40100.0               1                   0\n",
       "\n",
       "[153 rows x 5 columns]"
      ]
     },
     "execution_count": 64,
     "metadata": {},
     "output_type": "execute_result"
    }
   ],
   "source": [
    "duplicados = df.duplicated()\n",
    "df[duplicados]"
   ]
  },
  {
   "cell_type": "code",
   "execution_count": 65,
   "metadata": {},
   "outputs": [
    {
     "data": {
      "text/plain": [
       "(4847, 5)"
      ]
     },
     "execution_count": 65,
     "metadata": {},
     "output_type": "execute_result"
    }
   ],
   "source": [
    "df = df.drop_duplicates().reset_index(drop=True)\n",
    "df.shape\n"
   ]
  },
  {
   "cell_type": "markdown",
   "metadata": {},
   "source": [
    "Eliminamos las filas duplicadas y reseteamos el indice"
   ]
  },
  {
   "cell_type": "code",
   "execution_count": 66,
   "metadata": {},
   "outputs": [
    {
     "data": {
      "text/html": [
       "<div>\n",
       "<style scoped>\n",
       "    .dataframe tbody tr th:only-of-type {\n",
       "        vertical-align: middle;\n",
       "    }\n",
       "\n",
       "    .dataframe tbody tr th {\n",
       "        vertical-align: top;\n",
       "    }\n",
       "\n",
       "    .dataframe thead th {\n",
       "        text-align: right;\n",
       "    }\n",
       "</style>\n",
       "<table border=\"1\" class=\"dataframe\">\n",
       "  <thead>\n",
       "    <tr style=\"text-align: right;\">\n",
       "      <th></th>\n",
       "      <th>gender</th>\n",
       "      <th>age</th>\n",
       "      <th>income</th>\n",
       "      <th>family_members</th>\n",
       "      <th>insurance_benefits</th>\n",
       "    </tr>\n",
       "  </thead>\n",
       "  <tbody>\n",
       "    <tr>\n",
       "      <th>count</th>\n",
       "      <td>4847.000000</td>\n",
       "      <td>4847.000000</td>\n",
       "      <td>4847.000000</td>\n",
       "      <td>4847.000000</td>\n",
       "      <td>4847.000000</td>\n",
       "    </tr>\n",
       "    <tr>\n",
       "      <th>mean</th>\n",
       "      <td>0.498453</td>\n",
       "      <td>31.023932</td>\n",
       "      <td>39895.811842</td>\n",
       "      <td>1.203425</td>\n",
       "      <td>0.152259</td>\n",
       "    </tr>\n",
       "    <tr>\n",
       "      <th>std</th>\n",
       "      <td>0.500049</td>\n",
       "      <td>8.487995</td>\n",
       "      <td>9972.953985</td>\n",
       "      <td>1.098664</td>\n",
       "      <td>0.468934</td>\n",
       "    </tr>\n",
       "    <tr>\n",
       "      <th>min</th>\n",
       "      <td>0.000000</td>\n",
       "      <td>18.000000</td>\n",
       "      <td>5300.000000</td>\n",
       "      <td>0.000000</td>\n",
       "      <td>0.000000</td>\n",
       "    </tr>\n",
       "    <tr>\n",
       "      <th>25%</th>\n",
       "      <td>0.000000</td>\n",
       "      <td>24.000000</td>\n",
       "      <td>33200.000000</td>\n",
       "      <td>0.000000</td>\n",
       "      <td>0.000000</td>\n",
       "    </tr>\n",
       "    <tr>\n",
       "      <th>50%</th>\n",
       "      <td>0.000000</td>\n",
       "      <td>30.000000</td>\n",
       "      <td>40200.000000</td>\n",
       "      <td>1.000000</td>\n",
       "      <td>0.000000</td>\n",
       "    </tr>\n",
       "    <tr>\n",
       "      <th>75%</th>\n",
       "      <td>1.000000</td>\n",
       "      <td>37.000000</td>\n",
       "      <td>46600.000000</td>\n",
       "      <td>2.000000</td>\n",
       "      <td>0.000000</td>\n",
       "    </tr>\n",
       "    <tr>\n",
       "      <th>max</th>\n",
       "      <td>1.000000</td>\n",
       "      <td>65.000000</td>\n",
       "      <td>79000.000000</td>\n",
       "      <td>6.000000</td>\n",
       "      <td>5.000000</td>\n",
       "    </tr>\n",
       "  </tbody>\n",
       "</table>\n",
       "</div>"
      ],
      "text/plain": [
       "            gender          age        income  family_members  \\\n",
       "count  4847.000000  4847.000000   4847.000000     4847.000000   \n",
       "mean      0.498453    31.023932  39895.811842        1.203425   \n",
       "std       0.500049     8.487995   9972.953985        1.098664   \n",
       "min       0.000000    18.000000   5300.000000        0.000000   \n",
       "25%       0.000000    24.000000  33200.000000        0.000000   \n",
       "50%       0.000000    30.000000  40200.000000        1.000000   \n",
       "75%       1.000000    37.000000  46600.000000        2.000000   \n",
       "max       1.000000    65.000000  79000.000000        6.000000   \n",
       "\n",
       "       insurance_benefits  \n",
       "count         4847.000000  \n",
       "mean             0.152259  \n",
       "std              0.468934  \n",
       "min              0.000000  \n",
       "25%              0.000000  \n",
       "50%              0.000000  \n",
       "75%              0.000000  \n",
       "max              5.000000  "
      ]
     },
     "execution_count": 66,
     "metadata": {},
     "output_type": "execute_result"
    }
   ],
   "source": [
    "#ahora analizaremos los datos descriptivos\n",
    "df.describe()"
   ]
  },
  {
   "cell_type": "markdown",
   "metadata": {},
   "source": [
    "### Exploraremos la distribución de los datos de ingresos"
   ]
  },
  {
   "cell_type": "code",
   "execution_count": 67,
   "metadata": {},
   "outputs": [
    {
     "data": {
      "image/png": "[encoded data removed]",
      "text/plain": [
       "<Figure size 800x400 with 1 Axes>"
      ]
     },
     "metadata": {},
     "output_type": "display_data"
    }
   ],
   "source": [
    "# Crear el diagrama de caja \n",
    "plt.figure(figsize=(8, 4))\n",
    "plt.boxplot(df['income']) \n",
    "plt.title('Diagrama de Caja de Ingresos') \n",
    "plt.xlabel('Ingresos')\n",
    "plt.ylabel('Valor')\n",
    "plt.show()"
   ]
  },
  {
   "cell_type": "code",
   "execution_count": 68,
   "metadata": {},
   "outputs": [
    {
     "data": {
      "image/png": "[encoded data removed]",
      "text/plain": [
       "<Figure size 800x400 with 1 Axes>"
      ]
     },
     "metadata": {},
     "output_type": "display_data"
    }
   ],
   "source": [
    "# Crear el histograma \n",
    "plt.figure(figsize=(8, 4))\n",
    "plt.hist(df['income'], bins=10, color='skyblue', edgecolor='black')\n",
    "plt.title('Histograma de Ingresos') \n",
    "plt.xlabel('Ingresos') \n",
    "plt.ylabel('Frecuencia')\n",
    "plt.show()"
   ]
  },
  {
   "cell_type": "markdown",
   "metadata": {},
   "source": [
    "- Dataframe de 4847 filas y 5 columnas.\n",
    "- Eliminamos valores duplicados, no hay valores nulos.\n",
    "- La mayor cantidad de datos de ingresos se concentran en nuestro histograma en 40,000 y 50,000"
   ]
  },
  {
   "cell_type": "markdown",
   "metadata": {},
   "source": [
    "### Identificar relaciones entre las distintas variables"
   ]
  },
  {
   "cell_type": "code",
   "execution_count": 69,
   "metadata": {},
   "outputs": [
    {
     "name": "stderr",
     "output_type": "stream",
     "text": [
      "C:\\Users\\T3R4BYT3\\anaconda3\\Lib\\site-packages\\seaborn\\_oldcore.py:1119: FutureWarning: use_inf_as_na option is deprecated and will be removed in a future version. Convert inf values to NaN before operating instead.\n",
      "  with pd.option_context('mode.use_inf_as_na', True):\n",
      "C:\\Users\\T3R4BYT3\\anaconda3\\Lib\\site-packages\\seaborn\\_oldcore.py:1119: FutureWarning: use_inf_as_na option is deprecated and will be removed in a future version. Convert inf values to NaN before operating instead.\n",
      "  with pd.option_context('mode.use_inf_as_na', True):\n",
      "C:\\Users\\T3R4BYT3\\anaconda3\\Lib\\site-packages\\seaborn\\_oldcore.py:1119: FutureWarning: use_inf_as_na option is deprecated and will be removed in a future version. Convert inf values to NaN before operating instead.\n",
      "  with pd.option_context('mode.use_inf_as_na', True):\n",
      "C:\\Users\\T3R4BYT3\\anaconda3\\Lib\\site-packages\\seaborn\\_oldcore.py:1119: FutureWarning: use_inf_as_na option is deprecated and will be removed in a future version. Convert inf values to NaN before operating instead.\n",
      "  with pd.option_context('mode.use_inf_as_na', True):\n",
      "C:\\Users\\T3R4BYT3\\anaconda3\\Lib\\site-packages\\seaborn\\_oldcore.py:1119: FutureWarning: use_inf_as_na option is deprecated and will be removed in a future version. Convert inf values to NaN before operating instead.\n",
      "  with pd.option_context('mode.use_inf_as_na', True):\n",
      "C:\\Users\\T3R4BYT3\\anaconda3\\Lib\\site-packages\\seaborn\\_oldcore.py:1119: FutureWarning: use_inf_as_na option is deprecated and will be removed in a future version. Convert inf values to NaN before operating instead.\n",
      "  with pd.option_context('mode.use_inf_as_na', True):\n",
      "C:\\Users\\T3R4BYT3\\anaconda3\\Lib\\site-packages\\seaborn\\_oldcore.py:1119: FutureWarning: use_inf_as_na option is deprecated and will be removed in a future version. Convert inf values to NaN before operating instead.\n",
      "  with pd.option_context('mode.use_inf_as_na', True):\n",
      "C:\\Users\\T3R4BYT3\\anaconda3\\Lib\\site-packages\\seaborn\\_oldcore.py:1119: FutureWarning: use_inf_as_na option is deprecated and will be removed in a future version. Convert inf values to NaN before operating instead.\n",
      "  with pd.option_context('mode.use_inf_as_na', True):\n",
      "C:\\Users\\T3R4BYT3\\anaconda3\\Lib\\site-packages\\seaborn\\_oldcore.py:1119: FutureWarning: use_inf_as_na option is deprecated and will be removed in a future version. Convert inf values to NaN before operating instead.\n",
      "  with pd.option_context('mode.use_inf_as_na', True):\n",
      "C:\\Users\\T3R4BYT3\\anaconda3\\Lib\\site-packages\\seaborn\\_oldcore.py:1119: FutureWarning: use_inf_as_na option is deprecated and will be removed in a future version. Convert inf values to NaN before operating instead.\n",
      "  with pd.option_context('mode.use_inf_as_na', True):\n",
      "C:\\Users\\T3R4BYT3\\anaconda3\\Lib\\site-packages\\seaborn\\_oldcore.py:1119: FutureWarning: use_inf_as_na option is deprecated and will be removed in a future version. Convert inf values to NaN before operating instead.\n",
      "  with pd.option_context('mode.use_inf_as_na', True):\n",
      "C:\\Users\\T3R4BYT3\\anaconda3\\Lib\\site-packages\\seaborn\\_oldcore.py:1119: FutureWarning: use_inf_as_na option is deprecated and will be removed in a future version. Convert inf values to NaN before operating instead.\n",
      "  with pd.option_context('mode.use_inf_as_na', True):\n",
      "C:\\Users\\T3R4BYT3\\anaconda3\\Lib\\site-packages\\seaborn\\_oldcore.py:1119: FutureWarning: use_inf_as_na option is deprecated and will be removed in a future version. Convert inf values to NaN before operating instead.\n",
      "  with pd.option_context('mode.use_inf_as_na', True):\n",
      "C:\\Users\\T3R4BYT3\\anaconda3\\Lib\\site-packages\\seaborn\\_oldcore.py:1119: FutureWarning: use_inf_as_na option is deprecated and will be removed in a future version. Convert inf values to NaN before operating instead.\n",
      "  with pd.option_context('mode.use_inf_as_na', True):\n",
      "C:\\Users\\T3R4BYT3\\anaconda3\\Lib\\site-packages\\seaborn\\_oldcore.py:1119: FutureWarning: use_inf_as_na option is deprecated and will be removed in a future version. Convert inf values to NaN before operating instead.\n",
      "  with pd.option_context('mode.use_inf_as_na', True):\n",
      "C:\\Users\\T3R4BYT3\\anaconda3\\Lib\\site-packages\\seaborn\\_oldcore.py:1119: FutureWarning: use_inf_as_na option is deprecated and will be removed in a future version. Convert inf values to NaN before operating instead.\n",
      "  with pd.option_context('mode.use_inf_as_na', True):\n",
      "C:\\Users\\T3R4BYT3\\anaconda3\\Lib\\site-packages\\seaborn\\_oldcore.py:1119: FutureWarning: use_inf_as_na option is deprecated and will be removed in a future version. Convert inf values to NaN before operating instead.\n",
      "  with pd.option_context('mode.use_inf_as_na', True):\n",
      "C:\\Users\\T3R4BYT3\\anaconda3\\Lib\\site-packages\\seaborn\\_oldcore.py:1119: FutureWarning: use_inf_as_na option is deprecated and will be removed in a future version. Convert inf values to NaN before operating instead.\n",
      "  with pd.option_context('mode.use_inf_as_na', True):\n",
      "C:\\Users\\T3R4BYT3\\anaconda3\\Lib\\site-packages\\seaborn\\_oldcore.py:1119: FutureWarning: use_inf_as_na option is deprecated and will be removed in a future version. Convert inf values to NaN before operating instead.\n",
      "  with pd.option_context('mode.use_inf_as_na', True):\n",
      "C:\\Users\\T3R4BYT3\\anaconda3\\Lib\\site-packages\\seaborn\\_oldcore.py:1119: FutureWarning: use_inf_as_na option is deprecated and will be removed in a future version. Convert inf values to NaN before operating instead.\n",
      "  with pd.option_context('mode.use_inf_as_na', True):\n",
      "C:\\Users\\T3R4BYT3\\anaconda3\\Lib\\site-packages\\seaborn\\_oldcore.py:1119: FutureWarning: use_inf_as_na option is deprecated and will be removed in a future version. Convert inf values to NaN before operating instead.\n",
      "  with pd.option_context('mode.use_inf_as_na', True):\n",
      "C:\\Users\\T3R4BYT3\\anaconda3\\Lib\\site-packages\\seaborn\\_oldcore.py:1119: FutureWarning: use_inf_as_na option is deprecated and will be removed in a future version. Convert inf values to NaN before operating instead.\n",
      "  with pd.option_context('mode.use_inf_as_na', True):\n",
      "C:\\Users\\T3R4BYT3\\anaconda3\\Lib\\site-packages\\seaborn\\_oldcore.py:1119: FutureWarning: use_inf_as_na option is deprecated and will be removed in a future version. Convert inf values to NaN before operating instead.\n",
      "  with pd.option_context('mode.use_inf_as_na', True):\n",
      "C:\\Users\\T3R4BYT3\\anaconda3\\Lib\\site-packages\\seaborn\\_oldcore.py:1119: FutureWarning: use_inf_as_na option is deprecated and will be removed in a future version. Convert inf values to NaN before operating instead.\n",
      "  with pd.option_context('mode.use_inf_as_na', True):\n",
      "C:\\Users\\T3R4BYT3\\anaconda3\\Lib\\site-packages\\seaborn\\_oldcore.py:1119: FutureWarning: use_inf_as_na option is deprecated and will be removed in a future version. Convert inf values to NaN before operating instead.\n",
      "  with pd.option_context('mode.use_inf_as_na', True):\n",
      "C:\\Users\\T3R4BYT3\\anaconda3\\Lib\\site-packages\\seaborn\\_oldcore.py:1119: FutureWarning: use_inf_as_na option is deprecated and will be removed in a future version. Convert inf values to NaN before operating instead.\n",
      "  with pd.option_context('mode.use_inf_as_na', True):\n",
      "C:\\Users\\T3R4BYT3\\anaconda3\\Lib\\site-packages\\seaborn\\_oldcore.py:1119: FutureWarning: use_inf_as_na option is deprecated and will be removed in a future version. Convert inf values to NaN before operating instead.\n",
      "  with pd.option_context('mode.use_inf_as_na', True):\n",
      "C:\\Users\\T3R4BYT3\\anaconda3\\Lib\\site-packages\\seaborn\\_oldcore.py:1119: FutureWarning: use_inf_as_na option is deprecated and will be removed in a future version. Convert inf values to NaN before operating instead.\n",
      "  with pd.option_context('mode.use_inf_as_na', True):\n",
      "C:\\Users\\T3R4BYT3\\anaconda3\\Lib\\site-packages\\seaborn\\_oldcore.py:1119: FutureWarning: use_inf_as_na option is deprecated and will be removed in a future version. Convert inf values to NaN before operating instead.\n",
      "  with pd.option_context('mode.use_inf_as_na', True):\n",
      "C:\\Users\\T3R4BYT3\\anaconda3\\Lib\\site-packages\\seaborn\\_oldcore.py:1119: FutureWarning: use_inf_as_na option is deprecated and will be removed in a future version. Convert inf values to NaN before operating instead.\n",
      "  with pd.option_context('mode.use_inf_as_na', True):\n",
      "C:\\Users\\T3R4BYT3\\anaconda3\\Lib\\site-packages\\seaborn\\_oldcore.py:1119: FutureWarning: use_inf_as_na option is deprecated and will be removed in a future version. Convert inf values to NaN before operating instead.\n",
      "  with pd.option_context('mode.use_inf_as_na', True):\n"
     ]
    },
    {
     "name": "stderr",
     "output_type": "stream",
     "text": [
      "C:\\Users\\T3R4BYT3\\anaconda3\\Lib\\site-packages\\seaborn\\_oldcore.py:1119: FutureWarning: use_inf_as_na option is deprecated and will be removed in a future version. Convert inf values to NaN before operating instead.\n",
      "  with pd.option_context('mode.use_inf_as_na', True):\n",
      "C:\\Users\\T3R4BYT3\\anaconda3\\Lib\\site-packages\\seaborn\\_oldcore.py:1119: FutureWarning: use_inf_as_na option is deprecated and will be removed in a future version. Convert inf values to NaN before operating instead.\n",
      "  with pd.option_context('mode.use_inf_as_na', True):\n",
      "C:\\Users\\T3R4BYT3\\anaconda3\\Lib\\site-packages\\seaborn\\_oldcore.py:1119: FutureWarning: use_inf_as_na option is deprecated and will be removed in a future version. Convert inf values to NaN before operating instead.\n",
      "  with pd.option_context('mode.use_inf_as_na', True):\n",
      "C:\\Users\\T3R4BYT3\\anaconda3\\Lib\\site-packages\\seaborn\\_oldcore.py:1119: FutureWarning: use_inf_as_na option is deprecated and will be removed in a future version. Convert inf values to NaN before operating instead.\n",
      "  with pd.option_context('mode.use_inf_as_na', True):\n",
      "C:\\Users\\T3R4BYT3\\anaconda3\\Lib\\site-packages\\seaborn\\_oldcore.py:1119: FutureWarning: use_inf_as_na option is deprecated and will be removed in a future version. Convert inf values to NaN before operating instead.\n",
      "  with pd.option_context('mode.use_inf_as_na', True):\n",
      "C:\\Users\\T3R4BYT3\\anaconda3\\Lib\\site-packages\\seaborn\\_oldcore.py:1119: FutureWarning: use_inf_as_na option is deprecated and will be removed in a future version. Convert inf values to NaN before operating instead.\n",
      "  with pd.option_context('mode.use_inf_as_na', True):\n",
      "C:\\Users\\T3R4BYT3\\anaconda3\\Lib\\site-packages\\seaborn\\_oldcore.py:1119: FutureWarning: use_inf_as_na option is deprecated and will be removed in a future version. Convert inf values to NaN before operating instead.\n",
      "  with pd.option_context('mode.use_inf_as_na', True):\n",
      "C:\\Users\\T3R4BYT3\\anaconda3\\Lib\\site-packages\\seaborn\\_oldcore.py:1119: FutureWarning: use_inf_as_na option is deprecated and will be removed in a future version. Convert inf values to NaN before operating instead.\n",
      "  with pd.option_context('mode.use_inf_as_na', True):\n",
      "C:\\Users\\T3R4BYT3\\anaconda3\\Lib\\site-packages\\seaborn\\_oldcore.py:1119: FutureWarning: use_inf_as_na option is deprecated and will be removed in a future version. Convert inf values to NaN before operating instead.\n",
      "  with pd.option_context('mode.use_inf_as_na', True):\n",
      "C:\\Users\\T3R4BYT3\\anaconda3\\Lib\\site-packages\\seaborn\\_oldcore.py:1119: FutureWarning: use_inf_as_na option is deprecated and will be removed in a future version. Convert inf values to NaN before operating instead.\n",
      "  with pd.option_context('mode.use_inf_as_na', True):\n",
      "C:\\Users\\T3R4BYT3\\anaconda3\\Lib\\site-packages\\seaborn\\_oldcore.py:1119: FutureWarning: use_inf_as_na option is deprecated and will be removed in a future version. Convert inf values to NaN before operating instead.\n",
      "  with pd.option_context('mode.use_inf_as_na', True):\n",
      "C:\\Users\\T3R4BYT3\\anaconda3\\Lib\\site-packages\\seaborn\\_oldcore.py:1119: FutureWarning: use_inf_as_na option is deprecated and will be removed in a future version. Convert inf values to NaN before operating instead.\n",
      "  with pd.option_context('mode.use_inf_as_na', True):\n",
      "C:\\Users\\T3R4BYT3\\anaconda3\\Lib\\site-packages\\seaborn\\_oldcore.py:1119: FutureWarning: use_inf_as_na option is deprecated and will be removed in a future version. Convert inf values to NaN before operating instead.\n",
      "  with pd.option_context('mode.use_inf_as_na', True):\n",
      "C:\\Users\\T3R4BYT3\\anaconda3\\Lib\\site-packages\\seaborn\\_oldcore.py:1119: FutureWarning: use_inf_as_na option is deprecated and will be removed in a future version. Convert inf values to NaN before operating instead.\n",
      "  with pd.option_context('mode.use_inf_as_na', True):\n"
     ]
    },
    {
     "data": {
      "image/png": "[encoded data removed]",
      "text/plain": [
       "<Figure size 1200x1200 with 30 Axes>"
      ]
     },
     "metadata": {},
     "output_type": "display_data"
    }
   ],
   "source": [
    "#Vamos a comprobar rápidamente si existen determinados grupos de clientes observando el gráfico de pares.\n",
    "g = sns.pairplot(df, kind='hist')\n",
    "g.fig.set_size_inches(12, 12)"
   ]
  },
  {
   "cell_type": "markdown",
   "metadata": {},
   "source": [
    "De acuerdo, es un poco complicado detectar grupos obvios (clústeres) ya que es difícil combinar diversas variables simultáneamente (para analizar distribuciones multivariadas). Ahí es donde LA y ML pueden ser bastante útiles."
   ]
  },
  {
   "cell_type": "markdown",
   "metadata": {},
   "source": [
    "# Tarea 1. Clientes similares"
   ]
  },
  {
   "cell_type": "markdown",
   "metadata": {},
   "source": [
    "En el lenguaje de ML, es necesario desarrollar un procedimiento que devuelva los k vecinos más cercanos (objetos) para un objeto dado basándose en la distancia entre los objetos.\n",
    "Para resolver la tarea, podemos probar diferentes métricas de distancia."
   ]
  },
  {
   "cell_type": "markdown",
   "metadata": {},
   "source": [
    "Escribiremos una función que devuelva los k vecinos más cercanos para un $n^{th}$ objeto basándonos en una métrica de distancia especificada. A la hora de realizar esta tarea tendremos en cuenta el número de prestaciones de seguro recibidas.\n",
    "\n",
    "Probaremos para cuatro combinaciones de dos casos- Escalado/No Escalado\n",
    "- Los datos no están escalados\n",
    "- Los datos están escalados con el escalador [MaxAbsScaler]\n",
    "\n",
    "- Métricas de distancia: Euclidiana\n",
    "- Métricas de distancia: Manhattan\n",
    "\n",
    "Responderemos las siguientes preguntas:\n",
    "- ¿El hecho de que los datos no estén escalados afecta al algoritmo kNN? Si es así, ¿cómo se manifiesta?\n",
    "- ¿Qué tan similares son los resultados al utilizar la métrica de distancia Manhattan (independientemente del escalado)?"
   ]
  },
  {
   "cell_type": "markdown",
   "metadata": {},
   "source": [
    "##  Función para calcular los k vecinos más cercanos."
   ]
  },
  {
   "cell_type": "code",
   "execution_count": 70,
   "metadata": {},
   "outputs": [],
   "source": [
    "feature_names = ['gender', 'age', 'income', 'family_members']"
   ]
  },
  {
   "cell_type": "code",
   "execution_count": 71,
   "metadata": {},
   "outputs": [],
   "source": [
    "def get_knn(df, n, k, metric):\n",
    "    \n",
    "    \"\"\"\n",
    "    Devuelve los k vecinos más cercanos\n",
    "\n",
    "    :param df: DataFrame de pandas utilizado para encontrar objetos similares dentro del mismo lugar    :param n: número de objetos para los que se buscan los vecinos más cercanos    :param k: número de vecinos más cercanos a devolver\n",
    "    :param métrica: nombre de la métrica de distancia    \"\"\"\n",
    "\n",
    "    nbrs = NearestNeighbors(n_neighbors=k, metric=metric)\n",
    "    nbrs.fit(df[feature_names])\n",
    "    nbrs_distances, nbrs_indices = nbrs.kneighbors([df.iloc[n][feature_names]], k, return_distance=True)\n",
    "    \n",
    "    df_res = pd.concat([\n",
    "        df.iloc[nbrs_indices[0]], \n",
    "        pd.DataFrame(nbrs_distances.T, index=nbrs_indices[0], columns=['distance'])\n",
    "        ], axis=1)\n",
    "    \n",
    "    return df_res"
   ]
  },
  {
   "cell_type": "markdown",
   "metadata": {},
   "source": [
    "## Escalamos los datos"
   ]
  },
  {
   "cell_type": "code",
   "execution_count": 72,
   "metadata": {},
   "outputs": [],
   "source": [
    "feature_names = ['gender', 'age', 'income', 'family_members']\n",
    "\n",
    "transformer_mas = sklearn.preprocessing.MaxAbsScaler().fit(df[feature_names].to_numpy())\n",
    "\n",
    "df_scaled = df.copy()\n",
    "df_scaled.loc[:, feature_names] = transformer_mas.transform(df[feature_names].to_numpy())"
   ]
  },
  {
   "cell_type": "code",
   "execution_count": 73,
   "metadata": {},
   "outputs": [
    {
     "data": {
      "text/html": [
       "<div>\n",
       "<style scoped>\n",
       "    .dataframe tbody tr th:only-of-type {\n",
       "        vertical-align: middle;\n",
       "    }\n",
       "\n",
       "    .dataframe tbody tr th {\n",
       "        vertical-align: top;\n",
       "    }\n",
       "\n",
       "    .dataframe thead th {\n",
       "        text-align: right;\n",
       "    }\n",
       "</style>\n",
       "<table border=\"1\" class=\"dataframe\">\n",
       "  <thead>\n",
       "    <tr style=\"text-align: right;\">\n",
       "      <th></th>\n",
       "      <th>gender</th>\n",
       "      <th>age</th>\n",
       "      <th>income</th>\n",
       "      <th>family_members</th>\n",
       "      <th>insurance_benefits</th>\n",
       "    </tr>\n",
       "  </thead>\n",
       "  <tbody>\n",
       "    <tr>\n",
       "      <th>2369</th>\n",
       "      <td>1</td>\n",
       "      <td>0.676923</td>\n",
       "      <td>0.551899</td>\n",
       "      <td>0.500000</td>\n",
       "      <td>1</td>\n",
       "    </tr>\n",
       "    <tr>\n",
       "      <th>758</th>\n",
       "      <td>1</td>\n",
       "      <td>0.584615</td>\n",
       "      <td>0.649367</td>\n",
       "      <td>0.166667</td>\n",
       "      <td>0</td>\n",
       "    </tr>\n",
       "    <tr>\n",
       "      <th>4530</th>\n",
       "      <td>0</td>\n",
       "      <td>0.400000</td>\n",
       "      <td>0.286076</td>\n",
       "      <td>0.166667</td>\n",
       "      <td>0</td>\n",
       "    </tr>\n",
       "    <tr>\n",
       "      <th>2973</th>\n",
       "      <td>1</td>\n",
       "      <td>0.615385</td>\n",
       "      <td>0.698734</td>\n",
       "      <td>0.166667</td>\n",
       "      <td>0</td>\n",
       "    </tr>\n",
       "    <tr>\n",
       "      <th>1143</th>\n",
       "      <td>0</td>\n",
       "      <td>0.553846</td>\n",
       "      <td>0.387342</td>\n",
       "      <td>0.166667</td>\n",
       "      <td>0</td>\n",
       "    </tr>\n",
       "  </tbody>\n",
       "</table>\n",
       "</div>"
      ],
      "text/plain": [
       "      gender       age    income  family_members  insurance_benefits\n",
       "2369       1  0.676923  0.551899        0.500000                   1\n",
       "758        1  0.584615  0.649367        0.166667                   0\n",
       "4530       0  0.400000  0.286076        0.166667                   0\n",
       "2973       1  0.615385  0.698734        0.166667                   0\n",
       "1143       0  0.553846  0.387342        0.166667                   0"
      ]
     },
     "execution_count": 73,
     "metadata": {},
     "output_type": "execute_result"
    }
   ],
   "source": [
    "df_scaled.sample(5)"
   ]
  },
  {
   "cell_type": "markdown",
   "metadata": {},
   "source": [
    "Ahora, vamos a obtener registros similares para uno determinado, para cada combinación"
   ]
  },
  {
   "cell_type": "code",
   "execution_count": 74,
   "metadata": {},
   "outputs": [],
   "source": [
    "# Índice del objeto para el cual se buscan los vecinos más cercanos\n",
    "n = 0"
   ]
  },
  {
   "cell_type": "code",
   "execution_count": 75,
   "metadata": {},
   "outputs": [],
   "source": [
    "# Número de vecinos más cercanos a devolver (3)\n",
    "k = 4"
   ]
  },
  {
   "cell_type": "code",
   "execution_count": 76,
   "metadata": {},
   "outputs": [
    {
     "name": "stdout",
     "output_type": "stream",
     "text": [
      "Datos no escalados, métrica Euclidiana:\n",
      "      gender  age   income  family_members  insurance_benefits  distance\n",
      "0          1   41  49600.0               1                   0  0.000000\n",
      "1992       1   41  49600.0               0                   0  1.000000\n",
      "1214       0   42  49600.0               0                   1  1.732051\n",
      "3916       1   44  49600.0               2                   1  3.162278\n",
      "\n",
      "\n"
     ]
    },
    {
     "name": "stderr",
     "output_type": "stream",
     "text": [
      "C:\\Users\\T3R4BYT3\\anaconda3\\Lib\\site-packages\\sklearn\\utils\\validation.py:2739: UserWarning: X does not have valid feature names, but NearestNeighbors was fitted with feature names\n",
      "  warnings.warn(\n"
     ]
    }
   ],
   "source": [
    "# Combinaciones:\n",
    "# 1. Datos no escalados, métrica Euclidiana\n",
    "result1 = get_knn(df, n, k, metric='euclidean')\n",
    "print(\"Datos no escalados, métrica Euclidiana:\")\n",
    "print(result1)\n",
    "print(\"\\n\")"
   ]
  },
  {
   "cell_type": "code",
   "execution_count": 77,
   "metadata": {},
   "outputs": [
    {
     "name": "stdout",
     "output_type": "stream",
     "text": [
      "Datos no escalados, métrica Manhattan:\n",
      "      gender  age   income  family_members  insurance_benefits  distance\n",
      "0          1   41  49600.0               1                   0       0.0\n",
      "1992       1   41  49600.0               0                   0       1.0\n",
      "1214       0   42  49600.0               0                   1       3.0\n",
      "3916       1   44  49600.0               2                   1       4.0\n",
      "\n",
      "\n"
     ]
    },
    {
     "name": "stderr",
     "output_type": "stream",
     "text": [
      "C:\\Users\\T3R4BYT3\\anaconda3\\Lib\\site-packages\\sklearn\\utils\\validation.py:2739: UserWarning: X does not have valid feature names, but NearestNeighbors was fitted with feature names\n",
      "  warnings.warn(\n"
     ]
    }
   ],
   "source": [
    "# 2. Datos no escalados, métrica Manhattan\n",
    "result2 = get_knn(df, n, k, metric='manhattan')\n",
    "print(\"Datos no escalados, métrica Manhattan:\")\n",
    "print(result2)\n",
    "print(\"\\n\")"
   ]
  },
  {
   "cell_type": "code",
   "execution_count": 78,
   "metadata": {},
   "outputs": [
    {
     "name": "stdout",
     "output_type": "stream",
     "text": [
      "Datos escalados con MaxAbsScaler, métrica Euclidiana:\n",
      "      gender       age    income  family_members  insurance_benefits  distance\n",
      "0          1  0.630769  0.627848        0.166667                   0  0.000000\n",
      "2632       1  0.630769  0.634177        0.166667                   0  0.006329\n",
      "133        1  0.615385  0.636709        0.166667                   0  0.017754\n",
      "4720       1  0.646154  0.637975        0.166667                   1  0.018418\n",
      "\n",
      "\n"
     ]
    },
    {
     "name": "stderr",
     "output_type": "stream",
     "text": [
      "C:\\Users\\T3R4BYT3\\anaconda3\\Lib\\site-packages\\sklearn\\utils\\validation.py:2739: UserWarning: X does not have valid feature names, but NearestNeighbors was fitted with feature names\n",
      "  warnings.warn(\n"
     ]
    }
   ],
   "source": [
    "# 3. Datos escalados con MaxAbsScaler, métrica Euclidiana\n",
    "result3 = get_knn(df_scaled, n, k, metric='euclidean')\n",
    "print(\"Datos escalados con MaxAbsScaler, métrica Euclidiana:\")\n",
    "print(result3)\n",
    "print(\"\\n\")"
   ]
  },
  {
   "cell_type": "code",
   "execution_count": 79,
   "metadata": {},
   "outputs": [
    {
     "name": "stdout",
     "output_type": "stream",
     "text": [
      "Datos escalados con MaxAbsScaler, métrica Manhattan:\n",
      "      gender       age    income  family_members  insurance_benefits  distance\n",
      "0          1  0.630769  0.627848        0.166667                   0  0.000000\n",
      "2632       1  0.630769  0.634177        0.166667                   0  0.006329\n",
      "133        1  0.615385  0.636709        0.166667                   0  0.024245\n",
      "4720       1  0.646154  0.637975        0.166667                   1  0.025511\n"
     ]
    },
    {
     "name": "stderr",
     "output_type": "stream",
     "text": [
      "C:\\Users\\T3R4BYT3\\anaconda3\\Lib\\site-packages\\sklearn\\utils\\validation.py:2739: UserWarning: X does not have valid feature names, but NearestNeighbors was fitted with feature names\n",
      "  warnings.warn(\n"
     ]
    }
   ],
   "source": [
    "# 4. Datos escalados con MaxAbsScaler, métrica Manhattan\n",
    "result4 = get_knn(df_scaled, n, k, metric='manhattan')\n",
    "print(\"Datos escalados con MaxAbsScaler, métrica Manhattan:\")\n",
    "print(result4)"
   ]
  },
  {
   "cell_type": "markdown",
   "metadata": {},
   "source": [
    "gracias a que teniamos la función bien definida se puede aplicar a diferentes datos (escalados y no escalados) usando solo una línea de código!"
   ]
  },
  {
   "cell_type": "markdown",
   "metadata": {},
   "source": [
    "## Conclusión. Tarea 1"
   ]
  },
  {
   "cell_type": "markdown",
   "metadata": {},
   "source": [
    "**¿El hecho de que los datos no estén escalados afecta al algoritmo kNN? Si es así, ¿cómo se manifiesta?** "
   ]
  },
  {
   "cell_type": "markdown",
   "metadata": {},
   "source": [
    "claro que si afecta el algoritmo kNN, al no estar escalados la distancia es mucho mayor!! esto es porque:\n",
    "Sin escalado, las características con valores más grandes pueden dominar la distancia, haciendo que la contribución de las características con valores más pequeños sea insignificante. Esto puede distorsionar la verdadera relación entre los datos."
   ]
  },
  {
   "cell_type": "markdown",
   "metadata": {},
   "source": [
    "**¿Qué tan similares son los resultados al utilizar la métrica de distancia Manhattan (independientemente del escalado)?** \n"
   ]
  },
  {
   "cell_type": "markdown",
   "metadata": {},
   "source": [
    "La distancia euclideana es menor que la manhattan no esten escalados o si esten escalados!!"
   ]
  },
  {
   "cell_type": "markdown",
   "metadata": {},
   "source": [
    "# Tarea 2. ¿Es probable que el cliente reciba una prestación del seguro?"
   ]
  },
  {
   "cell_type": "markdown",
   "metadata": {},
   "source": [
    "En términos de machine learning podemos considerarlo como una tarea de clasificación binaria."
   ]
  },
  {
   "cell_type": "markdown",
   "metadata": {},
   "source": [
    "Con el valor de `insurance_benefits` superior a cero como objetivo, evaluaremos si el enfoque de clasificación kNN puede funcionar mejor que el modelo dummy.\n",
    "Instrucciones:\n",
    "- Construiremos un clasificador basado en KNN y mediremos su calidad con la métrica F1 para k=1...10 tanto para los datos originales como para los escalados. Sería interesante observar cómo k puede influir en la métrica de evaluación y si el escalado de los datos provoca alguna diferencia. \n",
    "- Construiremos un modelo dummy en este caso es simplemente un modelo aleatorio. Debería devolver \"1\" con cierta probabilidad. - - Probaremos el modelo con cuatro valores de probabilidad:\n",
    "- - 0 la probabilidad de pagar cualquier prestación del seguro\n",
    "- - 0.12\n",
    "- - 0.5\n",
    "- - 1\n",
    "\n",
    "La **probabilidad** de pagar cualquier prestación del seguro puede definirse como:\n",
    "\n",
    "\n",
    "$$\n",
    "P\\{\\text{prestación de seguro recibida}\\}=\\frac{\\text{número de clientes que han recibido alguna prestación de seguro}}{\\text{número total de clientes}}.\n",
    "$$\n",
    "\n"
   ]
  },
  {
   "cell_type": "code",
   "execution_count": 80,
   "metadata": {},
   "outputs": [],
   "source": [
    "# сalcula el objetivo\n",
    "df['insurance_benefits_received'] = df['insurance_benefits'] > 0"
   ]
  },
  {
   "cell_type": "code",
   "execution_count": 81,
   "metadata": {},
   "outputs": [
    {
     "data": {
      "text/plain": [
       "insurance_benefits_received\n",
       "False    4284\n",
       "True      563\n",
       "Name: count, dtype: int64"
      ]
     },
     "execution_count": 81,
     "metadata": {},
     "output_type": "execute_result"
    }
   ],
   "source": [
    "# comprueba el desequilibrio de clases con value_counts()\n",
    "\n",
    "df['insurance_benefits_received'].value_counts()"
   ]
  },
  {
   "cell_type": "code",
   "execution_count": 82,
   "metadata": {},
   "outputs": [],
   "source": [
    "def eval_classifier(y_true, y_pred):\n",
    "    \n",
    "    f1_score = sklearn.metrics.f1_score(y_true, y_pred)\n",
    "    print(f'F1: {f1_score:.2f}')\n",
    "    \n",
    "# si tienes algún problema con la siguiente línea, reinicia el kernel y ejecuta el cuaderno de nuevo    cm = sklearn.metrics.confusion_matrix(y_true, y_pred, normalize='all')\n",
    "    # Matriz de confusión\n",
    "    cm = confusion_matrix(y_true, y_pred, normalize = 'all')\n",
    "    print('Matriz de confusión')\n",
    "    print(cm)"
   ]
  },
  {
   "cell_type": "code",
   "execution_count": 83,
   "metadata": {},
   "outputs": [],
   "source": [
    "# generar la salida de un modelo aleatorio\n",
    "\n",
    "def rnd_model_predict(P, size, seed=42):\n",
    "\n",
    "    rng = np.random.default_rng(seed=seed)\n",
    "    return rng.binomial(n=1, p=P, size=size)"
   ]
  },
  {
   "cell_type": "code",
   "execution_count": 84,
   "metadata": {},
   "outputs": [
    {
     "data": {
      "text/plain": [
       "0.11615432226119249"
      ]
     },
     "execution_count": 84,
     "metadata": {},
     "output_type": "execute_result"
    }
   ],
   "source": [
    "(df['insurance_benefits_received']==True).sum()/len(df)"
   ]
  },
  {
   "cell_type": "code",
   "execution_count": 85,
   "metadata": {},
   "outputs": [
    {
     "name": "stdout",
     "output_type": "stream",
     "text": [
      "La probabilidad: 0.00\n",
      "F1: 0.00\n",
      "Matriz de confusión\n",
      "[[0.88384568 0.        ]\n",
      " [0.11615432 0.        ]]\n",
      "\n",
      "La probabilidad: 0.12\n",
      "F1: 0.13\n",
      "Matriz de confusión\n",
      "[[0.78502166 0.09882401]\n",
      " [0.1017124  0.01444192]]\n",
      "\n",
      "La probabilidad: 0.50\n",
      "F1: 0.19\n",
      "Matriz de confusión\n",
      "[[0.44873117 0.4351145 ]\n",
      " [0.05921188 0.05694244]]\n",
      "\n",
      "La probabilidad: 1.00\n",
      "F1: 0.21\n",
      "Matriz de confusión\n",
      "[[0.         0.88384568]\n",
      " [0.         0.11615432]]\n",
      "\n"
     ]
    }
   ],
   "source": [
    "for P in [0, (df['insurance_benefits_received']==True).sum() / len(df), 0.5, 1]:\n",
    "\n",
    "    print(f'La probabilidad: {P:.2f}')\n",
    "    y_pred_rnd = rnd_model_predict(P, size=len(df))\n",
    "        \n",
    "    eval_classifier(df['insurance_benefits_received'], y_pred_rnd)\n",
    "    \n",
    "    print()"
   ]
  },
  {
   "cell_type": "markdown",
   "metadata": {},
   "source": [
    "## Conclusion. Tarea 2"
   ]
  },
  {
   "cell_type": "markdown",
   "metadata": {},
   "source": [
    "Aunque el F1 score más alto se obtiene con un umbral de probabilidad de 1.00, este modelo clasifica todas las instancias como positivas, lo que no es ideal si deseamos un balance entre precisión y recall.\n",
    "\n",
    "Basado en las matrices de confusión y F1 scores, **el umbral de probabilidad 0.50** parece ser el mejor. Proporciona un balance razonable entre verdaderos positivos y falsos negativos, y un F1 score de 0.19, que es el segundo más alto"
   ]
  },
  {
   "cell_type": "markdown",
   "metadata": {},
   "source": [
    "# Tarea 3. Regresión lineal"
   ]
  },
  {
   "cell_type": "markdown",
   "metadata": {},
   "source": [
    "Con `insurance_benefits` como objetivo, evaluaremos cuál sería la RECM de un modelo de regresión lineal.\n",
    "- Construiremos nuestra propia implementación de regresión lineal\n",
    "- Comprobaremos la RECM tanto para los datos originales como para los escalados. ¿Habra alguna diferencia en la RECM ?\n",
    "\n",
    "Denotemos:\n",
    "- $X$: matriz de características\n",
    "- cada fila es un caso\n",
    "- cada columna es una característica (la primera columna está formada por unidades)\n",
    "- $y:$  objetivo (un vector)- $\\hat{y}$ \n",
    "- objetivo estimado (un vector)- $w$ \n",
    "- vector de pesos\n",
    "La tarea de regresión lineal en el lenguaje de las matrices puede formularse así:\n",
    "$$\n",
    "y = Xw\n",
    "$$\n",
    "\n",
    "El objetivo de entrenamiento es entonces encontrar esa $w$ w que minimice la distancia L2 (ECM) entre $Xw$ y $y$:\n",
    "\n",
    "$$\n",
    "\\min_w d_2(Xw, y) \\quad \\text{or} \\quad \\min_w \\text{MSE}(Xw, y)\n",
    "$$\n",
    "\n",
    "hay una solución analítica para lo anteriormente expuesto:\n",
    "$$\n",
    "w = (X^T X)^{-1} X^T y\n",
    "$$\n",
    "\n",
    "La fórmula anterior puede servir para encontrar los pesos $w$ y estos últimos pueden utilizarse para calcular los valores predichos\n",
    "$$\n",
    "\\hat{y} = X_{val}w\n",
    "$$"
   ]
  },
  {
   "cell_type": "markdown",
   "metadata": {},
   "source": [
    "Dividiremos todos los datos correspondientes a las etapas de entrenamiento/prueba respetando la proporción 70:30. Utilizaremos la métrica RECM para evaluar el modelo."
   ]
  },
  {
   "cell_type": "code",
   "execution_count": 86,
   "metadata": {},
   "outputs": [],
   "source": [
    "#Construccion de nuestra clase de Regresion Lineal propia.\n",
    "class MyLinearRegression:\n",
    "    \n",
    "    def __init__(self):\n",
    "        \n",
    "        self.weights = None\n",
    "    \n",
    "    def fit(self, X, y):\n",
    "        \n",
    "        # añadir las unidades\n",
    "        X2 = np.append(np.ones([len(X), 1]), X, axis=1)\n",
    "        # Calcular los pesos usando la fórmula normal\n",
    "        self.weights = np.linalg.inv(X2.T.dot(X2)).dot(X2.T).dot(y) \n",
    "\n",
    "    def predict(self, X):\n",
    "        \n",
    "        # añadir las unidades\n",
    "        X2 = np.append(np.ones([len(X), 1]), X, axis=1)\n",
    "        y_pred = X2.dot(self.weights) \n",
    "        \n",
    "        return y_pred"
   ]
  },
  {
   "cell_type": "code",
   "execution_count": 87,
   "metadata": {},
   "outputs": [],
   "source": [
    "#Función para evaluar ciertas métricas de nuestro modelo \n",
    "def eval_regressor(y_true, y_pred):\n",
    "    \n",
    "    rmse = math.sqrt(sklearn.metrics.mean_squared_error(y_true, y_pred))\n",
    "    print(f'RMSE: {rmse:.2f}')\n",
    "    \n",
    "    r2_score = math.sqrt(sklearn.metrics.r2_score(y_true, y_pred))\n",
    "    print(f'R2: {r2_score:.2f}')    "
   ]
  },
  {
   "cell_type": "code",
   "execution_count": 88,
   "metadata": {},
   "outputs": [
    {
     "name": "stdout",
     "output_type": "stream",
     "text": [
      "[-9.77366729e-01  3.58042291e-02  1.95594888e-02  5.85336165e-07\n",
      " -1.21618420e-02]\n",
      "RMSE: 0.36\n",
      "R2: 0.66\n"
     ]
    }
   ],
   "source": [
    "#Caracteristycas y objetivos\n",
    "x = df[['age', 'gender', 'income', 'family_members']].to_numpy()\n",
    "y = df['insurance_benefits'].to_numpy()\n",
    "\n",
    "#Division de 70% de nuestros datos de entrenamiento y 30% de prueba\n",
    "x_train, x_test, y_train, y_test = train_test_split(x, y, test_size=0.3, random_state=12345)\n",
    "\n",
    "#Asignamos una variable a nuestro modelo\n",
    "lr = MyLinearRegression()\n",
    "\n",
    "#Entrenamos nuestro modelo\n",
    "lr.fit(x_train, y_train)\n",
    "print(lr.weights)\n",
    "\n",
    "#Metricas de nuestro modelo (RMSE, R2_score)\n",
    "y_test_pred = lr.predict(x_test)\n",
    "eval_regressor(y_test, y_test_pred)"
   ]
  },
  {
   "cell_type": "markdown",
   "metadata": {},
   "source": [
    "## Conclusion. Tarea 3"
   ]
  },
  {
   "cell_type": "markdown",
   "metadata": {},
   "source": [
    "**RMSE (Root Mean Squared Error)**\n",
    "- **RMSE:** 0.36\n",
    "\n",
    "- **Significado:** El RMSE mide la desviación estándar de los residuos (es decir, las diferencias entre los valores observados y los valores predichos por el modelo). En otras palabras, dice cuán lejos, en promedio, están las predicciones del modelo de los valores reales.\n",
    "  - Un RMSE de 0.36 indica que, en promedio, las predicciones del modelo están a una distancia de 0.36 unidades de los valores observados. Cuanto más bajo sea el RMSE, mejor es el modelo en términos de precisión.\n",
    "\n",
    "\n",
    "**R² score (Coeficiente de Determinación)**\n",
    "- **R² score:** 0.66\n",
    "\n",
    "- **Significado:** El R² mide la proporción de la variabilidad total en los datos que es explicada por el modelo. Su valor oscila entre 0 y 1, donde 1 indica que el modelo explica perfectamente la variabilidad de los datos y 0 indica que el modelo no explica nada de la variabilidad.\n",
    "\n",
    "  - Un R² de 0.66 significa que el 66% de la variabilidad en los datos de salida puede ser explicada por el modelo. Esto es un indicador de que el modelo tiene una capacidad predictiva moderada."
   ]
  },
  {
   "cell_type": "markdown",
   "metadata": {},
   "source": [
    "**Desempeño del Modelo:**\n",
    " - **Un RMSE de 0.36** sugiere que las predicciones del modelo son razonablemente precisas, aunque no perfectas. \n",
    " - **Un R² de 0.66** muestra que el modelo explica una buena parte de la variabilidad, pero aún hay un 34% de la variabilidad que no está siendo capturada por el modelo."
   ]
  },
  {
   "cell_type": "markdown",
   "metadata": {},
   "source": [
    "# Tarea 4. Ofuscar datos"
   ]
  },
  {
   "cell_type": "markdown",
   "metadata": {},
   "source": [
    "Lo mejor es ofuscar los datos multiplicando las características numéricas (se pueden ver como la matriz $X$) por una matriz invertible $P$. \n",
    "\n",
    "$$\n",
    "X' = X \\times P\n",
    "$$\n",
    "\n",
    "comprobaremos cómo quedarán los valores de las características después de la transformación. La propiedad de invertibilidad es importante aquí, así que nos aseguraremos de que $P$ sea realmente invertible."
   ]
  },
  {
   "cell_type": "code",
   "execution_count": 89,
   "metadata": {},
   "outputs": [],
   "source": [
    "personal_info_column_list = ['gender', 'age', 'income', 'family_members']\n",
    "df_pn = df[personal_info_column_list]"
   ]
  },
  {
   "cell_type": "code",
   "execution_count": 90,
   "metadata": {},
   "outputs": [
    {
     "data": {
      "text/html": [
       "<div>\n",
       "<style scoped>\n",
       "    .dataframe tbody tr th:only-of-type {\n",
       "        vertical-align: middle;\n",
       "    }\n",
       "\n",
       "    .dataframe tbody tr th {\n",
       "        vertical-align: top;\n",
       "    }\n",
       "\n",
       "    .dataframe thead th {\n",
       "        text-align: right;\n",
       "    }\n",
       "</style>\n",
       "<table border=\"1\" class=\"dataframe\">\n",
       "  <thead>\n",
       "    <tr style=\"text-align: right;\">\n",
       "      <th></th>\n",
       "      <th>gender</th>\n",
       "      <th>age</th>\n",
       "      <th>income</th>\n",
       "      <th>family_members</th>\n",
       "    </tr>\n",
       "  </thead>\n",
       "  <tbody>\n",
       "    <tr>\n",
       "      <th>0</th>\n",
       "      <td>1</td>\n",
       "      <td>41</td>\n",
       "      <td>49600.0</td>\n",
       "      <td>1</td>\n",
       "    </tr>\n",
       "    <tr>\n",
       "      <th>1</th>\n",
       "      <td>0</td>\n",
       "      <td>46</td>\n",
       "      <td>38000.0</td>\n",
       "      <td>1</td>\n",
       "    </tr>\n",
       "    <tr>\n",
       "      <th>2</th>\n",
       "      <td>0</td>\n",
       "      <td>29</td>\n",
       "      <td>21000.0</td>\n",
       "      <td>0</td>\n",
       "    </tr>\n",
       "    <tr>\n",
       "      <th>3</th>\n",
       "      <td>0</td>\n",
       "      <td>21</td>\n",
       "      <td>41700.0</td>\n",
       "      <td>2</td>\n",
       "    </tr>\n",
       "    <tr>\n",
       "      <th>4</th>\n",
       "      <td>1</td>\n",
       "      <td>28</td>\n",
       "      <td>26100.0</td>\n",
       "      <td>0</td>\n",
       "    </tr>\n",
       "    <tr>\n",
       "      <th>...</th>\n",
       "      <td>...</td>\n",
       "      <td>...</td>\n",
       "      <td>...</td>\n",
       "      <td>...</td>\n",
       "    </tr>\n",
       "    <tr>\n",
       "      <th>4842</th>\n",
       "      <td>0</td>\n",
       "      <td>28</td>\n",
       "      <td>35700.0</td>\n",
       "      <td>2</td>\n",
       "    </tr>\n",
       "    <tr>\n",
       "      <th>4843</th>\n",
       "      <td>0</td>\n",
       "      <td>34</td>\n",
       "      <td>52400.0</td>\n",
       "      <td>1</td>\n",
       "    </tr>\n",
       "    <tr>\n",
       "      <th>4844</th>\n",
       "      <td>0</td>\n",
       "      <td>20</td>\n",
       "      <td>33900.0</td>\n",
       "      <td>2</td>\n",
       "    </tr>\n",
       "    <tr>\n",
       "      <th>4845</th>\n",
       "      <td>1</td>\n",
       "      <td>22</td>\n",
       "      <td>32700.0</td>\n",
       "      <td>3</td>\n",
       "    </tr>\n",
       "    <tr>\n",
       "      <th>4846</th>\n",
       "      <td>1</td>\n",
       "      <td>28</td>\n",
       "      <td>40600.0</td>\n",
       "      <td>1</td>\n",
       "    </tr>\n",
       "  </tbody>\n",
       "</table>\n",
       "<p>4847 rows × 4 columns</p>\n",
       "</div>"
      ],
      "text/plain": [
       "      gender  age   income  family_members\n",
       "0          1   41  49600.0               1\n",
       "1          0   46  38000.0               1\n",
       "2          0   29  21000.0               0\n",
       "3          0   21  41700.0               2\n",
       "4          1   28  26100.0               0\n",
       "...      ...  ...      ...             ...\n",
       "4842       0   28  35700.0               2\n",
       "4843       0   34  52400.0               1\n",
       "4844       0   20  33900.0               2\n",
       "4845       1   22  32700.0               3\n",
       "4846       1   28  40600.0               1\n",
       "\n",
       "[4847 rows x 4 columns]"
      ]
     },
     "execution_count": 90,
     "metadata": {},
     "output_type": "execute_result"
    }
   ],
   "source": [
    "df_pn"
   ]
  },
  {
   "cell_type": "code",
   "execution_count": 91,
   "metadata": {},
   "outputs": [
    {
     "data": {
      "text/plain": [
       "array([[1.00e+00, 4.10e+01, 4.96e+04, 1.00e+00],\n",
       "       [0.00e+00, 4.60e+01, 3.80e+04, 1.00e+00],\n",
       "       [0.00e+00, 2.90e+01, 2.10e+04, 0.00e+00],\n",
       "       ...,\n",
       "       [0.00e+00, 2.00e+01, 3.39e+04, 2.00e+00],\n",
       "       [1.00e+00, 2.20e+01, 3.27e+04, 3.00e+00],\n",
       "       [1.00e+00, 2.80e+01, 4.06e+04, 1.00e+00]])"
      ]
     },
     "execution_count": 91,
     "metadata": {},
     "output_type": "execute_result"
    }
   ],
   "source": [
    "#matriz X\n",
    "X = df_pn.to_numpy()\n",
    "X"
   ]
  },
  {
   "cell_type": "markdown",
   "metadata": {},
   "source": [
    "Generar una matriz aleatoria $P$."
   ]
  },
  {
   "cell_type": "code",
   "execution_count": 92,
   "metadata": {},
   "outputs": [],
   "source": [
    "rng = np.random.default_rng(seed=42)\n",
    "P = rng.random(size=(X.shape[1], X.shape[1]))"
   ]
  },
  {
   "cell_type": "code",
   "execution_count": 93,
   "metadata": {},
   "outputs": [
    {
     "name": "stdout",
     "output_type": "stream",
     "text": [
      "Matriz P generada aleatoriamente:\n",
      "[[0.77395605 0.43887844 0.85859792 0.69736803]\n",
      " [0.09417735 0.97562235 0.7611397  0.78606431]\n",
      " [0.12811363 0.45038594 0.37079802 0.92676499]\n",
      " [0.64386512 0.82276161 0.4434142  0.22723872]]\n"
     ]
    }
   ],
   "source": [
    "print(\"Matriz P generada aleatoriamente:\")\n",
    "print(P)"
   ]
  },
  {
   "cell_type": "markdown",
   "metadata": {},
   "source": [
    "Comprobar que la matriz P sea invertible"
   ]
  },
  {
   "cell_type": "code",
   "execution_count": 94,
   "metadata": {},
   "outputs": [
    {
     "name": "stdout",
     "output_type": "stream",
     "text": [
      "La matriz P es invertible.\n"
     ]
    }
   ],
   "source": [
    "# Verificar si P es invertible\n",
    "det_P = np.linalg.det(P)\n",
    "\n",
    "if det_P != 0:\n",
    "    print(\"La matriz P es invertible.\")\n",
    "else:\n",
    "    print(\"La matriz P no es invertible.\")"
   ]
  },
  {
   "cell_type": "code",
   "execution_count": 95,
   "metadata": {},
   "outputs": [],
   "source": [
    "# Asegurarnos de que P sea invertible\n",
    "P_inv = np.linalg.inv(P)"
   ]
  },
  {
   "cell_type": "code",
   "execution_count": 96,
   "metadata": {},
   "outputs": [
    {
     "data": {
      "text/plain": [
       "array([[ 6359.71527314, 22380.40467609, 18424.09074184, 46000.69669016],\n",
       "       [ 4873.29406479, 17160.36702982, 14125.78076133, 35253.45577301],\n",
       "       [ 2693.11742928,  9486.397744  ,  7808.83156024, 19484.86063067],\n",
       "       ...,\n",
       "       [ 4346.2234249 , 15289.24126492, 12586.16264392, 31433.50888552],\n",
       "       [ 4194.09324155, 14751.9910242 , 12144.02930637, 30323.88763426],\n",
       "       [ 5205.46827354, 18314.24814446, 15077.01370762, 37649.59295455]])"
      ]
     },
     "execution_count": 96,
     "metadata": {},
     "output_type": "execute_result"
    }
   ],
   "source": [
    "#ofuscacion de datos\n",
    "X_1 = np.dot(X,P)\n",
    "X_1"
   ]
  },
  {
   "cell_type": "markdown",
   "metadata": {},
   "source": [
    "**¿Podemos adivinar la edad o los ingresos de los clientes después de la transformación?**\n"
   ]
  },
  {
   "cell_type": "markdown",
   "metadata": {},
   "source": [
    "No.\n",
    "Una vez que los datos han sido ofuscados, adivinar la edad o los ingresos directamente a partir de los datos ofuscados es prácticamente imposible sin conocer la matriz \n",
    "P."
   ]
  },
  {
   "cell_type": "markdown",
   "metadata": {},
   "source": [
    "¿Podemos recuperar los datos originales de $X'$ si conoces $P$? Intentaremos comprobarlo a través de los cálculos moviendo $P$ del lado derecho de la fórmula anterior al izquierdo. En este caso las reglas de la multiplicación matricial son realmente útiles"
   ]
  },
  {
   "cell_type": "code",
   "execution_count": 97,
   "metadata": {
    "scrolled": true
   },
   "outputs": [
    {
     "data": {
      "text/plain": [
       "array([[1.00000000e+00, 4.10000000e+01, 4.96000000e+04, 1.00000000e+00],\n",
       "       [6.66555413e-13, 4.60000000e+01, 3.80000000e+04, 1.00000000e+00],\n",
       "       [3.84747671e-13, 2.90000000e+01, 2.10000000e+04, 1.41940791e-12],\n",
       "       ...,\n",
       "       [1.18077361e-12, 2.00000000e+01, 3.39000000e+04, 2.00000000e+00],\n",
       "       [1.00000000e+00, 2.20000000e+01, 3.27000000e+04, 3.00000000e+00],\n",
       "       [1.00000000e+00, 2.80000000e+01, 4.06000000e+04, 1.00000000e+00]])"
      ]
     },
     "execution_count": 97,
     "metadata": {},
     "output_type": "execute_result"
    }
   ],
   "source": [
    "X_originales = np.dot(X_1, P_inv)\n",
    "X_originales"
   ]
  },
  {
   "cell_type": "markdown",
   "metadata": {},
   "source": [
    "**Muestra los tres casos para algunos clientes**\n",
    "- Datos originales\n",
    "- El que está transformado\n",
    "- El que está invertido (recuperado)"
   ]
  },
  {
   "cell_type": "code",
   "execution_count": 98,
   "metadata": {},
   "outputs": [
    {
     "data": {
      "text/plain": [
       "array([[1.00e+00, 4.10e+01, 4.96e+04, 1.00e+00],\n",
       "       [0.00e+00, 4.60e+01, 3.80e+04, 1.00e+00],\n",
       "       [0.00e+00, 2.90e+01, 2.10e+04, 0.00e+00]])"
      ]
     },
     "execution_count": 98,
     "metadata": {},
     "output_type": "execute_result"
    }
   ],
   "source": [
    "X[0:3, :]"
   ]
  },
  {
   "cell_type": "code",
   "execution_count": 99,
   "metadata": {},
   "outputs": [
    {
     "data": {
      "text/plain": [
       "array([[ 6359.71527314, 22380.40467609, 18424.09074184, 46000.69669016],\n",
       "       [ 4873.29406479, 17160.36702982, 14125.78076133, 35253.45577301],\n",
       "       [ 2693.11742928,  9486.397744  ,  7808.83156024, 19484.86063067]])"
      ]
     },
     "execution_count": 99,
     "metadata": {},
     "output_type": "execute_result"
    }
   ],
   "source": [
    "X_1[0:3, :]"
   ]
  },
  {
   "cell_type": "code",
   "execution_count": 100,
   "metadata": {},
   "outputs": [
    {
     "data": {
      "text/plain": [
       "array([[1.00000000e+00, 4.10000000e+01, 4.96000000e+04, 1.00000000e+00],\n",
       "       [6.66555413e-13, 4.60000000e+01, 3.80000000e+04, 1.00000000e+00],\n",
       "       [3.84747671e-13, 2.90000000e+01, 2.10000000e+04, 1.41940791e-12]])"
      ]
     },
     "execution_count": 100,
     "metadata": {},
     "output_type": "execute_result"
    }
   ],
   "source": [
    "X_originales[0:3, :]"
   ]
  },
  {
   "cell_type": "markdown",
   "metadata": {},
   "source": [
    "**podemos ver que algunos valores no son exactamente iguales a los de los datos originales. ¿Cuál podría ser la razón de ello?**"
   ]
  },
  {
   "cell_type": "markdown",
   "metadata": {},
   "source": [
    "errores numéricos introducidos durante las operaciones de multiplicación y cálculo de la inversa de la matriz"
   ]
  },
  {
   "cell_type": "markdown",
   "metadata": {},
   "source": [
    "# Prueba de que la ofuscación de datos puede funcionar con la Regresión Lineal (análiticamente)"
   ]
  },
  {
   "cell_type": "markdown",
   "metadata": {},
   "source": [
    "La siguiente tarea es demostrar **analíticamente** que el método de ofuscación no afectará a la regresión lineal en términos de valores predichos, es decir, que sus valores seguirán siendo los mismos. "
   ]
  },
  {
   "cell_type": "markdown",
   "metadata": {},
   "source": [
    "Entonces, los datos están ofuscados y ahora tenemos $X \\times P$ en lugar de tener solo $X$. En consecuencia, hay otros pesos $w_P$ como\n",
    "$$\n",
    "w = (X^T X)^{-1} X^T y \\quad \\Rightarrow \\quad w_P = [(XP)^T XP]^{-1} (XP)^T y\n",
    "$$\n",
    "\n",
    "¿Cómo se relacionarían $w$ y $w_P$ si simplificáramos la fórmula de $w_P$ anterior? \n",
    "\n",
    "¿Cuáles serían los valores predichos con $w_P$? \n",
    "\n",
    "¿Qué significa esto para la calidad de la regresión lineal si esta se mide mediante la RECM?"
   ]
  },
  {
   "cell_type": "markdown",
   "metadata": {},
   "source": [
    "## Calculos de la demostración análitica"
   ]
  },
  {
   "cell_type": "markdown",
   "metadata": {},
   "source": [
    "**Fórmula para los pesos en regresión lineal**\n",
    "\n",
    "Para los datos originales $X$, los pesos $w$ se calculan como:\n",
    "\n",
    "$w = (X^T X)^{-1} X^T y $\n",
    "\n",
    "Para los datos ofuscados $X' = X \\times P$, los pesos $w_P$ se calculan como:\n",
    "\n",
    "$ w_P = [(X \\times P)^T (X \\times P)]^{-1} (X \\times P)^T y$\n",
    "\n",
    "**Simplificación de $w_P$**\n",
    "\n",
    "Simplifiquemos $w_P$:\n",
    "\n",
    "1. Transpuesta del producto:\n",
    "$(X \\times P)^T = P^T \\times X^T $\n",
    "\n",
    "2. Producto de matrices:\n",
    "$(X \\times P)^T (X \\times P) = (P^T \\times X^T) (X \\times P)$\n",
    "\n",
    "3. Asociatividad del producto:\n",
    "$(P^T \\times X^T) (X \\times P) = P^T (X^T X) P $\n",
    "\n",
    "4. Inversa del producto:\n",
    "$[(X \\times P)^T (X \\times P)]^{-1} = [P^T (X^T X) P]^{-1} $\n",
    "\n",
    "5. Inversa de una matriz de productos (usando que la inversa de un producto es el producto de las inversas en orden inverso):\n",
    "$ [P^T (X^T X) P]^{-1} = P^{-1} (X^T X)^{-1} (P^T)^{-1} $\n",
    "\n",
    "  $ (P^T)^{-1} = (P^{-1})^T $\n",
    "\n",
    " Por lo tanto,\n",
    " \n",
    " $[P^T (X^T X) P]^{-1} = P^{-1} (X^T X)^{-1} (P^{-1})^T $\n",
    "\n",
    "\n",
    "6. Sustitución en la fórmula de $w_P$:\n",
    "\n",
    " $w_P = [P^{-1} (X^T X)^{-1} (P^{-1})^T] (X \\times P)^T y $\n",
    " \n",
    " $w_P = P^{-1} (X^T X)^{-1} (P^{-1})^T P^T X^T y $\n",
    " \n",
    "\n",
    "7. Simplificación del producto notando que $ (P^{-1})^T P^T = I $:\n",
    "\n",
    " $w_P = P^{-1} (X^T X)^{-1} X^T y $\n",
    "\n",
    "**Relación entre $w$  y  $w_P$**\n",
    "\n",
    " Dado que:\n",
    " \n",
    " $ w = (X^T X)^{-1} X^T y $\n",
    "\n",
    "Podemos ver que:\n",
    "\n",
    " $ w_P = P^{-1} w $\n",
    "\n",
    "**Valores predichos**\n",
    "\n",
    "Los valores predichos para los datos originales son:\n",
    "\n",
    " $\\hat{y} = X w $\n",
    "\n",
    "Para los datos ofuscados, los valores predichos son:\n",
    "\n",
    " $\\hat{y}_P = X' w_P = (X \\times P) w_P $\n",
    "\n",
    "Sustituyendo $w_P$:\n",
    "\n",
    " $ \\hat{y}_P = (X \\times P) (P^{-1} w) $\n",
    "\n",
    " $ \\hat{y}_P = X (P P^{-1}) w $\n",
    " \n",
    " $ \\hat{y}_P = X I w $\n",
    " \n",
    " $ \\hat{y}_P = X w $\n",
    "\n",
    "### Conclusión\n",
    "\n",
    "Por lo tanto, hemos demostrado que:\n",
    "\n",
    " $ \\hat{y}_P = \\hat{y} $\n"
   ]
  },
  {
   "cell_type": "markdown",
   "metadata": {},
   "source": [
    "Esto significa que los valores predichos por un modelo de regresión lineal no cambian si los datos están ofuscados usando una matriz invertible \n",
    "$𝑃$. \n",
    "La ofuscación de los datos no afecta a los valores predichos, ya que los resultados siguen siendo los mismos después de desofuscar los datos.\n",
    "El error cuadrático medio (RMSE) se calcula como:\n",
    "\n",
    " $\\text{RMSE} = \\sqrt{\\frac{1}{n} \\sum_{i=1}^{n} (y_i - \\hat{y}_i)^2} $\n",
    " \n",
    " \n",
    " donde: \n",
    " \n",
    " $ {y}_i $ son los valores reales,\n",
    " \n",
    " $ \\hat{y}_i $ son los valores predichos\n",
    "\n",
    "\n",
    "Dado que $ \\hat{y}_P = \\hat{y} $, los valores predichos no cambian, lo cual implica que la diferencia $ {y}_i = \\hat{y}_i $\n",
    "\n",
    "también permanece igual. Por lo tanto, la RMSE no se ve afectada por la ofuscación de los datos.\n",
    "\n",
    "Esta demostración confirma que la ofuscación no altera la precisión de los valores predichos en la regresión lineal."
   ]
  },
  {
   "cell_type": "markdown",
   "metadata": {},
   "source": [
    "# Prueba de Regresión Lineal (con ofuscación de datos)"
   ]
  },
  {
   "cell_type": "markdown",
   "metadata": {},
   "source": [
    "Ahora, probemos que la regresión lineal pueda funcionar, en términos computacionales, con la transformación de ofuscación elegida.\n",
    "Ejecutaremos la regresión lineal para los datos originales y los ofuscados, compararemos los valores predichos y los valores de las métricas RMSE y $R^2$. ¿Habrá alguna diferencia?"
   ]
  },
  {
   "cell_type": "markdown",
   "metadata": {},
   "source": [
    "**Procedimiento**\n",
    "\n",
    "- Creación de una matriz cuadrada $P$ de números aleatorios.\n",
    "- Comprobaremos que sea invertible. Si no lo es, repetiremos el primer paso hasta obtener una matriz invertible.\n",
    "- Utilizaremos $XP$ como la nueva matriz de características"
   ]
  },
  {
   "cell_type": "code",
   "execution_count": 101,
   "metadata": {},
   "outputs": [
    {
     "name": "stdout",
     "output_type": "stream",
     "text": [
      "RMSE: 0.36\n",
      "R2: 0.66\n"
     ]
    }
   ],
   "source": [
    "#datos originales\n",
    "y_test_pred = lr.predict(x_test)\n",
    "eval_regressor(y_test, y_test_pred)"
   ]
  },
  {
   "cell_type": "code",
   "execution_count": 102,
   "metadata": {},
   "outputs": [
    {
     "name": "stdout",
     "output_type": "stream",
     "text": [
      "RMSE: 0.36\n",
      "R2: 0.66\n"
     ]
    }
   ],
   "source": [
    "#datos ofuscados\n",
    "X_1 # matriz ofuscada con las caracteristicas\n",
    "#separar conjuntos de datos 70/30\n",
    "X_1_train, X_1_test, y_train, y_test = train_test_split(X_1, y, test_size=0.3, random_state=12345)\n",
    "model = MyLinearRegression()\n",
    "model.fit(X_1_train, y_train)\n",
    "\n",
    "predictions = model.predict(X_1_test)\n",
    "eval_regressor(y_test, predictions)\n"
   ]
  },
  {
   "cell_type": "code",
   "execution_count": 103,
   "metadata": {},
   "outputs": [
    {
     "data": {
      "text/plain": [
       "array([-0.10668209,  0.22650175,  0.21925154, ...,  0.33212098,\n",
       "        0.13128978,  0.30766708])"
      ]
     },
     "execution_count": 103,
     "metadata": {},
     "output_type": "execute_result"
    }
   ],
   "source": [
    "predictions"
   ]
  },
  {
   "cell_type": "code",
   "execution_count": 104,
   "metadata": {},
   "outputs": [
    {
     "data": {
      "text/plain": [
       "array([-0.1066821 ,  0.22650175,  0.21925153, ...,  0.332121  ,\n",
       "        0.13128978,  0.3076671 ])"
      ]
     },
     "execution_count": 104,
     "metadata": {},
     "output_type": "execute_result"
    }
   ],
   "source": [
    "y_test_pred "
   ]
  },
  {
   "cell_type": "markdown",
   "metadata": {},
   "source": [
    "### Tarea.4 Conclusiones"
   ]
  },
  {
   "cell_type": "markdown",
   "metadata": {},
   "source": [
    "No hay ninguna diferencia en las predicciones ni en las metricas con los datos ofuscados y sin ofuscar, los valores son los mismos.\n",
    "La ofuscación de los datos utilizando una matriz invertible ${P}$ no afecta la calidad del modelo de regresión lineal en términos de los valores predichos ni en términos del error cuadrático medio (RMSE). Esto significa que podemos aplicar ofuscación a los datos para proteger la privacidad sin comprometer la precisión de las predicciones ni la evaluación de la calidad del modelo!!!"
   ]
  },
  {
   "cell_type": "code",
   "execution_count": null,
   "metadata": {},
   "outputs": [],
   "source": []
  },
  {
   "cell_type": "markdown",
   "metadata": {},
   "source": [
    "## Apendice A:"
   ]
  },
  {
   "cell_type": "markdown",
   "metadata": {},
   "source": [
    "Podemos escribir fórmulas en Jupyter Notebook utilizando un lenguaje de marcado proporcionado por un sistema de publicación de alta calidad llamado $\\LaTeX$ (se pronuncia como \"Lah-tech\"). Las fórmulas se verán como las de los libros de texto.\n",
    "\n",
    "Para incorporar una fórmula a un texto, pon el signo de dólar (\\\\$) antes y después del texto de la fórmula, por ejemplo: $\\frac{1}{2} \\times \\frac{3}{2} = \\frac{3}{4}$ or $y = x^2, x \\ge 1$.\n",
    "\n",
    "Si una fórmula debe estar en el mismo párrafo, pon el doble signo de dólar (\\\\$\\\\$) antes y después del texto de la fórmula, por ejemplo:\n",
    "$$\n",
    "\\bar{x} = \\frac{1}{n}\\sum_{i=1}^{n} x_i.\n",
    "$$\n",
    "\n",
    "El lenguaje de marcado de [LaTeX](https://es.wikipedia.org/wiki/LaTeX) es muy popular entre las personas que utilizan fórmulas en sus artículos, libros y textos. Puede resultar complicado, pero sus fundamentos son sencillos. Consulta esta [ficha de ayuda](http://tug.ctan.org/info/undergradmath/undergradmath.pdf) (materiales en inglés) de dos páginas para aprender a componer las fórmulas más comunes."
   ]
  },
  {
   "cell_type": "markdown",
   "metadata": {},
   "source": [
    "## Apéndice B: Propiedades de las matrices"
   ]
  },
  {
   "cell_type": "markdown",
   "metadata": {},
   "source": [
    "Las matrices tienen muchas propiedades en cuanto al álgebra lineal. Aquí se enumeran algunas de ellas que pueden ayudar a la hora de realizar la prueba analítica de este proyecto."
   ]
  },
  {
   "cell_type": "markdown",
   "metadata": {},
   "source": [
    "<table>\n",
    "<tr>\n",
    "<td>Distributividad</td><td>$A(B+C)=AB+AC$</td>\n",
    "</tr>\n",
    "<tr>\n",
    "<td>No conmutatividad</td><td>$AB \\neq BA$</td>\n",
    "</tr>\n",
    "<tr>\n",
    "<td>Propiedad asociativa de la multiplicación</td><td>$(AB)C = A(BC)$</td>\n",
    "</tr>\n",
    "<tr>\n",
    "<td>Propiedad de identidad multiplicativa</td><td>$IA = AI = A$</td>\n",
    "</tr>\n",
    "<tr>\n",
    "<td></td><td>$A^{-1}A = AA^{-1} = I$\n",
    "</td>\n",
    "</tr>    \n",
    "<tr>\n",
    "<td></td><td>$(AB)^{-1} = B^{-1}A^{-1}$</td>\n",
    "</tr>    \n",
    "<tr>\n",
    "<td>Reversibilidad de la transposición de un producto de matrices,</td><td>$(AB)^T = B^TA^T$</td>\n",
    "</tr>    \n",
    "</table>"
   ]
  }
 ],
 "metadata": {
  "ExecuteTimeLog": [
   {
    "duration": 6330,
    "start_time": "2024-05-28T01:44:40.884Z"
   },
   {
    "duration": 4867,
    "start_time": "2024-05-28T01:45:10.324Z"
   },
   {
    "duration": 5966,
    "start_time": "2024-05-28T01:45:15.196Z"
   },
   {
    "duration": 20,
    "start_time": "2024-05-28T01:45:21.166Z"
   },
   {
    "duration": 7,
    "start_time": "2024-05-28T01:45:21.190Z"
   },
   {
    "duration": 47,
    "start_time": "2024-05-28T01:45:21.202Z"
   },
   {
    "duration": 21,
    "start_time": "2024-05-28T01:45:21.253Z"
   },
   {
    "duration": 5,
    "start_time": "2024-05-28T01:45:21.277Z"
   },
   {
    "duration": 46,
    "start_time": "2024-05-28T01:45:21.286Z"
   },
   {
    "duration": 6,
    "start_time": "2024-05-28T01:45:21.336Z"
   },
   {
    "duration": 6263,
    "start_time": "2024-05-28T01:45:21.355Z"
   },
   {
    "duration": 5,
    "start_time": "2024-05-28T01:45:27.622Z"
   },
   {
    "duration": 12,
    "start_time": "2024-05-28T01:45:27.632Z"
   },
   {
    "duration": 0,
    "start_time": "2024-05-28T01:45:27.648Z"
   },
   {
    "duration": 0,
    "start_time": "2024-05-28T01:45:27.652Z"
   },
   {
    "duration": 0,
    "start_time": "2024-05-28T01:45:27.655Z"
   },
   {
    "duration": 0,
    "start_time": "2024-05-28T01:45:27.658Z"
   },
   {
    "duration": 0,
    "start_time": "2024-05-28T01:45:27.660Z"
   },
   {
    "duration": 0,
    "start_time": "2024-05-28T01:45:27.664Z"
   },
   {
    "duration": 0,
    "start_time": "2024-05-28T01:45:27.667Z"
   },
   {
    "duration": 0,
    "start_time": "2024-05-28T01:45:27.670Z"
   },
   {
    "duration": 0,
    "start_time": "2024-05-28T01:45:27.674Z"
   },
   {
    "duration": 0,
    "start_time": "2024-05-28T01:45:27.676Z"
   },
   {
    "duration": 0,
    "start_time": "2024-05-28T01:45:27.680Z"
   },
   {
    "duration": 0,
    "start_time": "2024-05-28T01:45:27.738Z"
   },
   {
    "duration": 0,
    "start_time": "2024-05-28T01:45:27.741Z"
   },
   {
    "duration": 4975,
    "start_time": "2024-05-28T01:45:36.144Z"
   },
   {
    "duration": 4,
    "start_time": "2024-05-28T01:47:58.798Z"
   },
   {
    "duration": 11,
    "start_time": "2024-05-28T01:48:26.897Z"
   },
   {
    "duration": 13,
    "start_time": "2024-05-28T01:48:48.995Z"
   },
   {
    "duration": 5,
    "start_time": "2024-05-28T01:50:20.982Z"
   },
   {
    "duration": 15,
    "start_time": "2024-05-28T01:50:38.421Z"
   },
   {
    "duration": 5,
    "start_time": "2024-05-28T01:58:10.693Z"
   },
   {
    "duration": 11,
    "start_time": "2024-05-28T01:58:23.374Z"
   },
   {
    "duration": 10,
    "start_time": "2024-05-28T01:58:30.190Z"
   },
   {
    "duration": 5,
    "start_time": "2024-05-28T01:59:30.352Z"
   },
   {
    "duration": 30,
    "start_time": "2024-05-28T02:11:04.774Z"
   },
   {
    "duration": 11,
    "start_time": "2024-05-28T02:18:08.431Z"
   },
   {
    "duration": 8,
    "start_time": "2024-05-28T02:18:16.051Z"
   },
   {
    "duration": 6,
    "start_time": "2024-05-28T02:19:04.800Z"
   },
   {
    "duration": 19,
    "start_time": "2024-05-28T02:19:35.208Z"
   },
   {
    "duration": 17,
    "start_time": "2024-05-28T02:20:24.829Z"
   },
   {
    "duration": 10,
    "start_time": "2024-05-28T02:20:57.910Z"
   },
   {
    "duration": 12,
    "start_time": "2024-05-28T02:21:28.615Z"
   },
   {
    "duration": 14,
    "start_time": "2024-05-28T02:23:41.392Z"
   },
   {
    "duration": 20,
    "start_time": "2024-05-28T02:25:54.364Z"
   },
   {
    "duration": 19,
    "start_time": "2024-05-28T02:26:36.570Z"
   },
   {
    "duration": 6,
    "start_time": "2024-05-28T02:27:05.215Z"
   },
   {
    "duration": 7,
    "start_time": "2024-05-28T02:27:34.972Z"
   },
   {
    "duration": 22,
    "start_time": "2024-05-28T02:27:38.525Z"
   },
   {
    "duration": 15,
    "start_time": "2024-05-28T02:27:44.091Z"
   },
   {
    "duration": 12,
    "start_time": "2024-05-28T02:27:53.898Z"
   },
   {
    "duration": 28,
    "start_time": "2024-05-28T02:29:09.571Z"
   },
   {
    "duration": 531,
    "start_time": "2024-05-28T02:35:52.345Z"
   },
   {
    "duration": 39,
    "start_time": "2024-05-28T02:36:51.102Z"
   },
   {
    "duration": 10,
    "start_time": "2024-05-28T02:37:03.194Z"
   },
   {
    "duration": 191,
    "start_time": "2024-05-28T02:37:09.922Z"
   },
   {
    "duration": 198,
    "start_time": "2024-05-28T02:37:32.781Z"
   },
   {
    "duration": 179,
    "start_time": "2024-05-28T02:37:40.706Z"
   },
   {
    "duration": 149,
    "start_time": "2024-05-28T02:37:55.367Z"
   },
   {
    "duration": 173,
    "start_time": "2024-05-28T02:38:00.679Z"
   },
   {
    "duration": 176,
    "start_time": "2024-05-28T02:38:13.574Z"
   },
   {
    "duration": 980,
    "start_time": "2024-05-28T02:57:49.743Z"
   },
   {
    "duration": 183,
    "start_time": "2024-05-28T02:58:07.326Z"
   },
   {
    "duration": 97,
    "start_time": "2024-05-28T02:58:42.707Z"
   },
   {
    "duration": 279,
    "start_time": "2024-05-28T02:58:50.744Z"
   },
   {
    "duration": 347,
    "start_time": "2024-05-28T03:02:36.553Z"
   },
   {
    "duration": 315,
    "start_time": "2024-05-28T03:02:58.208Z"
   },
   {
    "duration": 88,
    "start_time": "2024-05-28T03:04:03.865Z"
   },
   {
    "duration": 275,
    "start_time": "2024-05-28T03:04:13.602Z"
   },
   {
    "duration": 288,
    "start_time": "2024-05-28T03:05:22.241Z"
   },
   {
    "duration": 295,
    "start_time": "2024-05-28T03:05:45.777Z"
   },
   {
    "duration": 4299,
    "start_time": "2024-05-28T19:05:59.892Z"
   },
   {
    "duration": 5117,
    "start_time": "2024-05-28T19:06:04.196Z"
   },
   {
    "duration": 14,
    "start_time": "2024-05-28T19:06:09.315Z"
   },
   {
    "duration": 16,
    "start_time": "2024-05-28T19:06:09.334Z"
   },
   {
    "duration": 5,
    "start_time": "2024-05-28T19:06:09.353Z"
   },
   {
    "duration": 16,
    "start_time": "2024-05-28T19:06:09.361Z"
   },
   {
    "duration": 15,
    "start_time": "2024-05-28T19:06:09.380Z"
   },
   {
    "duration": 5,
    "start_time": "2024-05-28T19:06:09.435Z"
   },
   {
    "duration": 6,
    "start_time": "2024-05-28T19:06:09.443Z"
   },
   {
    "duration": 19,
    "start_time": "2024-05-28T19:06:09.454Z"
   },
   {
    "duration": 57,
    "start_time": "2024-05-28T19:06:09.476Z"
   },
   {
    "duration": 3,
    "start_time": "2024-05-28T19:06:09.536Z"
   },
   {
    "duration": 29,
    "start_time": "2024-05-28T19:06:09.542Z"
   },
   {
    "duration": 347,
    "start_time": "2024-05-28T19:06:09.574Z"
   },
   {
    "duration": 5100,
    "start_time": "2024-05-28T19:06:09.925Z"
   },
   {
    "duration": 4446,
    "start_time": "2024-05-28T23:05:29.587Z"
   },
   {
    "duration": 5306,
    "start_time": "2024-05-28T23:05:34.039Z"
   },
   {
    "duration": 84,
    "start_time": "2024-05-28T23:05:39.347Z"
   },
   {
    "duration": 19,
    "start_time": "2024-05-28T23:05:39.435Z"
   },
   {
    "duration": 6,
    "start_time": "2024-05-28T23:05:39.457Z"
   },
   {
    "duration": 15,
    "start_time": "2024-05-28T23:05:39.467Z"
   },
   {
    "duration": 17,
    "start_time": "2024-05-28T23:05:39.522Z"
   },
   {
    "duration": 6,
    "start_time": "2024-05-28T23:05:39.542Z"
   },
   {
    "duration": 7,
    "start_time": "2024-05-28T23:05:39.551Z"
   },
   {
    "duration": 65,
    "start_time": "2024-05-28T23:05:39.566Z"
   },
   {
    "duration": 11,
    "start_time": "2024-05-28T23:05:39.634Z"
   },
   {
    "duration": 4,
    "start_time": "2024-05-28T23:05:39.648Z"
   },
   {
    "duration": 64,
    "start_time": "2024-05-28T23:05:39.663Z"
   },
   {
    "duration": 356,
    "start_time": "2024-05-28T23:05:39.731Z"
   },
   {
    "duration": 4984,
    "start_time": "2024-05-28T23:05:40.091Z"
   },
   {
    "duration": 4,
    "start_time": "2024-05-28T23:05:45.078Z"
   },
   {
    "duration": 9,
    "start_time": "2024-05-28T23:05:45.085Z"
   },
   {
    "duration": 0,
    "start_time": "2024-05-28T23:05:45.098Z"
   },
   {
    "duration": 0,
    "start_time": "2024-05-28T23:05:45.123Z"
   },
   {
    "duration": 0,
    "start_time": "2024-05-28T23:05:45.127Z"
   },
   {
    "duration": 0,
    "start_time": "2024-05-28T23:05:45.129Z"
   },
   {
    "duration": 0,
    "start_time": "2024-05-28T23:05:45.132Z"
   },
   {
    "duration": 0,
    "start_time": "2024-05-28T23:05:45.135Z"
   },
   {
    "duration": 0,
    "start_time": "2024-05-28T23:05:45.138Z"
   },
   {
    "duration": 0,
    "start_time": "2024-05-28T23:05:45.141Z"
   },
   {
    "duration": 0,
    "start_time": "2024-05-28T23:05:45.143Z"
   },
   {
    "duration": 0,
    "start_time": "2024-05-28T23:05:45.147Z"
   },
   {
    "duration": 0,
    "start_time": "2024-05-28T23:05:45.150Z"
   },
   {
    "duration": 0,
    "start_time": "2024-05-28T23:05:45.152Z"
   },
   {
    "duration": 0,
    "start_time": "2024-05-28T23:05:45.154Z"
   },
   {
    "duration": 4139,
    "start_time": "2024-05-28T23:58:12.810Z"
   },
   {
    "duration": 5,
    "start_time": "2024-05-28T23:58:16.954Z"
   },
   {
    "duration": 18,
    "start_time": "2024-05-28T23:58:16.962Z"
   },
   {
    "duration": 13,
    "start_time": "2024-05-28T23:58:16.983Z"
   },
   {
    "duration": 5,
    "start_time": "2024-05-28T23:58:16.999Z"
   },
   {
    "duration": 23,
    "start_time": "2024-05-28T23:58:17.008Z"
   },
   {
    "duration": 25,
    "start_time": "2024-05-28T23:58:17.034Z"
   },
   {
    "duration": 14,
    "start_time": "2024-05-28T23:58:17.061Z"
   },
   {
    "duration": 11,
    "start_time": "2024-05-28T23:58:17.385Z"
   },
   {
    "duration": 20,
    "start_time": "2024-05-28T23:58:17.632Z"
   },
   {
    "duration": 11,
    "start_time": "2024-05-28T23:58:17.747Z"
   },
   {
    "duration": 4,
    "start_time": "2024-05-28T23:58:17.996Z"
   },
   {
    "duration": 30,
    "start_time": "2024-05-28T23:58:18.167Z"
   },
   {
    "duration": 296,
    "start_time": "2024-05-28T23:58:18.298Z"
   },
   {
    "duration": 5043,
    "start_time": "2024-05-28T23:58:19.983Z"
   },
   {
    "duration": 4412,
    "start_time": "2024-05-29T00:47:28.937Z"
   },
   {
    "duration": 5269,
    "start_time": "2024-05-29T00:47:33.353Z"
   },
   {
    "duration": 18,
    "start_time": "2024-05-29T00:47:38.625Z"
   },
   {
    "duration": 19,
    "start_time": "2024-05-29T00:47:38.647Z"
   },
   {
    "duration": 10,
    "start_time": "2024-05-29T00:47:39.610Z"
   },
   {
    "duration": 13,
    "start_time": "2024-05-29T00:47:41.190Z"
   },
   {
    "duration": 6,
    "start_time": "2024-05-29T00:48:07.392Z"
   },
   {
    "duration": 16,
    "start_time": "2024-05-29T00:48:07.667Z"
   },
   {
    "duration": 18,
    "start_time": "2024-05-29T00:48:15.721Z"
   },
   {
    "duration": 5,
    "start_time": "2024-05-29T00:48:16.023Z"
   },
   {
    "duration": 7,
    "start_time": "2024-05-29T00:48:16.868Z"
   },
   {
    "duration": 25,
    "start_time": "2024-05-29T00:48:17.024Z"
   },
   {
    "duration": 12,
    "start_time": "2024-05-29T00:48:17.160Z"
   },
   {
    "duration": 4,
    "start_time": "2024-05-29T00:48:17.297Z"
   },
   {
    "duration": 33,
    "start_time": "2024-05-29T00:48:17.468Z"
   },
   {
    "duration": 366,
    "start_time": "2024-05-29T00:48:17.623Z"
   },
   {
    "duration": 5522,
    "start_time": "2024-05-29T00:48:18.646Z"
   },
   {
    "duration": 7,
    "start_time": "2024-05-29T00:58:16.376Z"
   },
   {
    "duration": 7,
    "start_time": "2024-05-29T01:04:14.416Z"
   },
   {
    "duration": 6,
    "start_time": "2024-05-29T01:25:42.133Z"
   },
   {
    "duration": 16,
    "start_time": "2024-05-29T01:25:44.349Z"
   },
   {
    "duration": 15,
    "start_time": "2024-05-29T01:25:44.665Z"
   },
   {
    "duration": 440,
    "start_time": "2024-05-29T01:26:56.954Z"
   },
   {
    "duration": 3,
    "start_time": "2024-05-29T01:27:29.795Z"
   },
   {
    "duration": 4,
    "start_time": "2024-05-29T01:27:30.087Z"
   },
   {
    "duration": 48,
    "start_time": "2024-05-29T01:27:30.602Z"
   },
   {
    "duration": 5,
    "start_time": "2024-05-29T01:33:06.752Z"
   },
   {
    "duration": 28,
    "start_time": "2024-05-29T01:33:17.412Z"
   },
   {
    "duration": 18,
    "start_time": "2024-05-29T01:33:55.806Z"
   },
   {
    "duration": 34,
    "start_time": "2024-05-29T01:34:01.096Z"
   },
   {
    "duration": 32,
    "start_time": "2024-05-29T01:34:01.802Z"
   },
   {
    "duration": 8,
    "start_time": "2024-05-29T01:40:27.204Z"
   },
   {
    "duration": 8,
    "start_time": "2024-05-29T01:40:51.505Z"
   },
   {
    "duration": 7,
    "start_time": "2024-05-29T01:41:07.659Z"
   },
   {
    "duration": 4341,
    "start_time": "2024-05-29T20:30:54.834Z"
   },
   {
    "duration": 5218,
    "start_time": "2024-05-29T20:30:59.181Z"
   },
   {
    "duration": 16,
    "start_time": "2024-05-29T20:31:04.402Z"
   },
   {
    "duration": 20,
    "start_time": "2024-05-29T20:31:04.423Z"
   },
   {
    "duration": 5,
    "start_time": "2024-05-29T20:31:04.449Z"
   },
   {
    "duration": 15,
    "start_time": "2024-05-29T20:31:04.457Z"
   },
   {
    "duration": 54,
    "start_time": "2024-05-29T20:31:04.476Z"
   },
   {
    "duration": 5,
    "start_time": "2024-05-29T20:31:04.534Z"
   },
   {
    "duration": 6,
    "start_time": "2024-05-29T20:31:04.541Z"
   },
   {
    "duration": 19,
    "start_time": "2024-05-29T20:31:04.550Z"
   },
   {
    "duration": 10,
    "start_time": "2024-05-29T20:31:04.573Z"
   },
   {
    "duration": 4,
    "start_time": "2024-05-29T20:31:04.631Z"
   },
   {
    "duration": 29,
    "start_time": "2024-05-29T20:31:04.638Z"
   },
   {
    "duration": 344,
    "start_time": "2024-05-29T20:31:04.675Z"
   },
   {
    "duration": 4996,
    "start_time": "2024-05-29T20:31:05.022Z"
   },
   {
    "duration": 12,
    "start_time": "2024-05-29T20:31:10.021Z"
   },
   {
    "duration": 7,
    "start_time": "2024-05-29T20:31:10.037Z"
   },
   {
    "duration": 14,
    "start_time": "2024-05-29T20:31:10.047Z"
   },
   {
    "duration": 15,
    "start_time": "2024-05-29T20:31:10.064Z"
   },
   {
    "duration": 4,
    "start_time": "2024-05-29T20:31:10.082Z"
   },
   {
    "duration": 4,
    "start_time": "2024-05-29T20:31:10.132Z"
   },
   {
    "duration": 22,
    "start_time": "2024-05-29T20:31:10.140Z"
   },
   {
    "duration": 19,
    "start_time": "2024-05-29T20:31:10.166Z"
   },
   {
    "duration": 70,
    "start_time": "2024-05-29T20:31:10.189Z"
   },
   {
    "duration": 33,
    "start_time": "2024-05-29T20:31:10.262Z"
   },
   {
    "duration": 34,
    "start_time": "2024-05-29T20:31:10.298Z"
   },
   {
    "duration": 0,
    "start_time": "2024-05-29T20:31:10.335Z"
   },
   {
    "duration": 0,
    "start_time": "2024-05-29T20:31:10.337Z"
   },
   {
    "duration": 0,
    "start_time": "2024-05-29T20:31:10.340Z"
   },
   {
    "duration": 0,
    "start_time": "2024-05-29T20:31:10.342Z"
   },
   {
    "duration": 0,
    "start_time": "2024-05-29T20:31:10.344Z"
   },
   {
    "duration": 0,
    "start_time": "2024-05-29T20:31:10.346Z"
   },
   {
    "duration": 0,
    "start_time": "2024-05-29T20:31:10.348Z"
   },
   {
    "duration": 0,
    "start_time": "2024-05-29T20:31:10.351Z"
   },
   {
    "duration": 0,
    "start_time": "2024-05-29T20:31:10.354Z"
   },
   {
    "duration": 0,
    "start_time": "2024-05-29T20:31:10.356Z"
   },
   {
    "duration": 3928,
    "start_time": "2024-05-29T23:00:58.559Z"
   },
   {
    "duration": 5,
    "start_time": "2024-05-29T23:01:02.491Z"
   },
   {
    "duration": 11,
    "start_time": "2024-05-29T23:01:02.500Z"
   },
   {
    "duration": 13,
    "start_time": "2024-05-29T23:01:02.514Z"
   },
   {
    "duration": 9,
    "start_time": "2024-05-29T23:01:02.530Z"
   },
   {
    "duration": 14,
    "start_time": "2024-05-29T23:01:02.542Z"
   },
   {
    "duration": 16,
    "start_time": "2024-05-29T23:01:02.559Z"
   },
   {
    "duration": 6,
    "start_time": "2024-05-29T23:01:02.578Z"
   },
   {
    "duration": 7,
    "start_time": "2024-05-29T23:01:02.631Z"
   },
   {
    "duration": 24,
    "start_time": "2024-05-29T23:01:02.645Z"
   },
   {
    "duration": 12,
    "start_time": "2024-05-29T23:01:02.676Z"
   },
   {
    "duration": 38,
    "start_time": "2024-05-29T23:01:02.694Z"
   },
   {
    "duration": 32,
    "start_time": "2024-05-29T23:01:02.734Z"
   },
   {
    "duration": 308,
    "start_time": "2024-05-29T23:01:02.770Z"
   },
   {
    "duration": 5069,
    "start_time": "2024-05-29T23:01:03.081Z"
   },
   {
    "duration": 4,
    "start_time": "2024-05-29T23:01:08.154Z"
   },
   {
    "duration": 9,
    "start_time": "2024-05-29T23:01:08.324Z"
   },
   {
    "duration": 6,
    "start_time": "2024-05-29T23:31:34.076Z"
   },
   {
    "duration": 15,
    "start_time": "2024-05-29T23:32:01.983Z"
   },
   {
    "duration": 14,
    "start_time": "2024-05-29T23:32:05.326Z"
   },
   {
    "duration": 4,
    "start_time": "2024-05-29T23:33:37.771Z"
   },
   {
    "duration": 3,
    "start_time": "2024-05-29T23:33:38.121Z"
   },
   {
    "duration": 17,
    "start_time": "2024-05-29T23:33:38.642Z"
   },
   {
    "duration": 4,
    "start_time": "2024-05-29T23:34:23.582Z"
   },
   {
    "duration": 4,
    "start_time": "2024-05-29T23:34:24.177Z"
   },
   {
    "duration": 23,
    "start_time": "2024-05-29T23:34:24.687Z"
   },
   {
    "duration": 3,
    "start_time": "2024-05-29T23:34:52.444Z"
   },
   {
    "duration": 3,
    "start_time": "2024-05-29T23:34:53.095Z"
   },
   {
    "duration": 19,
    "start_time": "2024-05-29T23:34:53.316Z"
   },
   {
    "duration": 5,
    "start_time": "2024-05-29T23:59:26.012Z"
   },
   {
    "duration": 19,
    "start_time": "2024-05-29T23:59:27.606Z"
   },
   {
    "duration": 20,
    "start_time": "2024-05-29T23:59:31.128Z"
   },
   {
    "duration": 33,
    "start_time": "2024-05-29T23:59:31.392Z"
   },
   {
    "duration": 36,
    "start_time": "2024-05-29T23:59:31.703Z"
   },
   {
    "duration": 3,
    "start_time": "2024-05-30T00:07:19.463Z"
   },
   {
    "duration": 6,
    "start_time": "2024-05-30T00:07:20.959Z"
   },
   {
    "duration": 3,
    "start_time": "2024-05-30T00:07:30.836Z"
   },
   {
    "duration": 4,
    "start_time": "2024-05-30T00:07:31.220Z"
   },
   {
    "duration": 21,
    "start_time": "2024-05-30T00:07:32.464Z"
   },
   {
    "duration": 22,
    "start_time": "2024-05-30T00:10:14.040Z"
   },
   {
    "duration": 32,
    "start_time": "2024-05-30T00:10:26.929Z"
   },
   {
    "duration": 33,
    "start_time": "2024-05-30T00:10:28.770Z"
   },
   {
    "duration": 7,
    "start_time": "2024-05-30T00:39:58.610Z"
   },
   {
    "duration": 9,
    "start_time": "2024-05-30T00:41:49.051Z"
   },
   {
    "duration": 4,
    "start_time": "2024-05-30T00:42:35.248Z"
   },
   {
    "duration": 4,
    "start_time": "2024-05-30T00:42:48.658Z"
   },
   {
    "duration": 6,
    "start_time": "2024-05-30T00:42:55.520Z"
   },
   {
    "duration": 5,
    "start_time": "2024-05-30T00:46:09.487Z"
   },
   {
    "duration": 4,
    "start_time": "2024-05-30T00:46:10.050Z"
   },
   {
    "duration": 452,
    "start_time": "2024-05-30T00:46:10.930Z"
   },
   {
    "duration": 4,
    "start_time": "2024-05-30T00:48:11.241Z"
   },
   {
    "duration": 9,
    "start_time": "2024-05-30T00:48:12.081Z"
   },
   {
    "duration": 5,
    "start_time": "2024-05-30T00:48:50.484Z"
   },
   {
    "duration": 4,
    "start_time": "2024-05-30T00:48:59.996Z"
   },
   {
    "duration": 4,
    "start_time": "2024-05-30T00:49:00.479Z"
   },
   {
    "duration": 42,
    "start_time": "2024-05-30T00:49:01.010Z"
   },
   {
    "duration": 5,
    "start_time": "2024-05-30T00:49:18.339Z"
   },
   {
    "duration": 4,
    "start_time": "2024-05-30T00:49:18.736Z"
   },
   {
    "duration": 18,
    "start_time": "2024-05-30T00:49:19.172Z"
   },
   {
    "duration": 4612,
    "start_time": "2024-05-30T22:34:48.856Z"
   },
   {
    "duration": 5432,
    "start_time": "2024-05-30T22:34:53.472Z"
   },
   {
    "duration": 19,
    "start_time": "2024-05-30T22:34:58.907Z"
   },
   {
    "duration": 17,
    "start_time": "2024-05-30T22:34:58.930Z"
   },
   {
    "duration": 6,
    "start_time": "2024-05-30T22:34:58.950Z"
   },
   {
    "duration": 15,
    "start_time": "2024-05-30T22:34:58.959Z"
   },
   {
    "duration": 55,
    "start_time": "2024-05-30T22:34:58.977Z"
   },
   {
    "duration": 6,
    "start_time": "2024-05-30T22:34:59.035Z"
   },
   {
    "duration": 6,
    "start_time": "2024-05-30T22:34:59.044Z"
   },
   {
    "duration": 20,
    "start_time": "2024-05-30T22:34:59.058Z"
   },
   {
    "duration": 11,
    "start_time": "2024-05-30T22:34:59.122Z"
   },
   {
    "duration": 4,
    "start_time": "2024-05-30T22:34:59.136Z"
   },
   {
    "duration": 31,
    "start_time": "2024-05-30T22:34:59.144Z"
   },
   {
    "duration": 409,
    "start_time": "2024-05-30T22:34:59.179Z"
   },
   {
    "duration": 5390,
    "start_time": "2024-05-30T22:34:59.591Z"
   },
   {
    "duration": 5,
    "start_time": "2024-05-30T22:35:04.984Z"
   },
   {
    "duration": 29,
    "start_time": "2024-05-30T22:35:04.994Z"
   },
   {
    "duration": 16,
    "start_time": "2024-05-30T22:35:17.075Z"
   },
   {
    "duration": 14,
    "start_time": "2024-05-30T22:35:17.860Z"
   },
   {
    "duration": 5,
    "start_time": "2024-05-30T22:35:21.321Z"
   },
   {
    "duration": 4,
    "start_time": "2024-05-30T22:35:21.482Z"
   },
   {
    "duration": 22,
    "start_time": "2024-05-30T22:35:21.667Z"
   },
   {
    "duration": 25,
    "start_time": "2024-05-30T22:35:21.850Z"
   },
   {
    "duration": 33,
    "start_time": "2024-05-30T22:35:22.177Z"
   },
   {
    "duration": 32,
    "start_time": "2024-05-30T22:35:22.501Z"
   },
   {
    "duration": 5,
    "start_time": "2024-05-30T22:38:09.431Z"
   },
   {
    "duration": 9,
    "start_time": "2024-05-30T22:38:09.733Z"
   },
   {
    "duration": 5,
    "start_time": "2024-05-30T22:38:10.908Z"
   },
   {
    "duration": 4,
    "start_time": "2024-05-30T22:38:13.980Z"
   },
   {
    "duration": 19,
    "start_time": "2024-05-30T22:38:15.129Z"
   },
   {
    "duration": 7,
    "start_time": "2024-05-30T22:42:01.861Z"
   },
   {
    "duration": 6,
    "start_time": "2024-05-30T22:42:16.515Z"
   },
   {
    "duration": 9,
    "start_time": "2024-05-30T22:43:28.935Z"
   },
   {
    "duration": 5,
    "start_time": "2024-05-30T23:08:03.063Z"
   },
   {
    "duration": 5,
    "start_time": "2024-05-30T23:08:10.369Z"
   },
   {
    "duration": 527,
    "start_time": "2024-05-30T23:08:18.803Z"
   },
   {
    "duration": 7,
    "start_time": "2024-05-30T23:13:30.936Z"
   },
   {
    "duration": 5,
    "start_time": "2024-05-30T23:13:31.924Z"
   },
   {
    "duration": 92,
    "start_time": "2024-05-30T23:13:32.633Z"
   },
   {
    "duration": 7,
    "start_time": "2024-05-30T23:20:30.655Z"
   },
   {
    "duration": 26,
    "start_time": "2024-05-30T23:22:01.576Z"
   },
   {
    "duration": 7,
    "start_time": "2024-05-30T23:22:07.312Z"
   },
   {
    "duration": 8,
    "start_time": "2024-05-30T23:27:11.249Z"
   },
   {
    "duration": 10,
    "start_time": "2024-05-30T23:27:21.152Z"
   },
   {
    "duration": 8,
    "start_time": "2024-05-30T23:27:47.481Z"
   },
   {
    "duration": 7,
    "start_time": "2024-05-30T23:28:15.987Z"
   },
   {
    "duration": 92,
    "start_time": "2024-05-30T23:29:16.280Z"
   },
   {
    "duration": 13,
    "start_time": "2024-05-30T23:34:59.017Z"
   },
   {
    "duration": 4,
    "start_time": "2024-05-30T23:35:01.243Z"
   },
   {
    "duration": 4,
    "start_time": "2024-05-30T23:35:01.583Z"
   },
   {
    "duration": 7,
    "start_time": "2024-05-30T23:35:01.915Z"
   },
   {
    "duration": 94,
    "start_time": "2024-05-30T23:35:02.561Z"
   },
   {
    "duration": 4175,
    "start_time": "2024-05-31T00:01:23.314Z"
   },
   {
    "duration": 6,
    "start_time": "2024-05-31T00:01:27.493Z"
   },
   {
    "duration": 13,
    "start_time": "2024-05-31T00:01:27.503Z"
   },
   {
    "duration": 17,
    "start_time": "2024-05-31T00:01:27.522Z"
   },
   {
    "duration": 5,
    "start_time": "2024-05-31T00:01:27.543Z"
   },
   {
    "duration": 18,
    "start_time": "2024-05-31T00:01:27.553Z"
   },
   {
    "duration": 57,
    "start_time": "2024-05-31T00:01:27.575Z"
   },
   {
    "duration": 6,
    "start_time": "2024-05-31T00:01:27.636Z"
   },
   {
    "duration": 7,
    "start_time": "2024-05-31T00:01:27.645Z"
   },
   {
    "duration": 20,
    "start_time": "2024-05-31T00:01:27.658Z"
   },
   {
    "duration": 47,
    "start_time": "2024-05-31T00:01:27.681Z"
   },
   {
    "duration": 4,
    "start_time": "2024-05-31T00:01:27.731Z"
   },
   {
    "duration": 34,
    "start_time": "2024-05-31T00:01:27.738Z"
   },
   {
    "duration": 328,
    "start_time": "2024-05-31T00:01:27.777Z"
   },
   {
    "duration": 5191,
    "start_time": "2024-05-31T00:01:28.109Z"
   },
   {
    "duration": 19,
    "start_time": "2024-05-31T00:01:33.304Z"
   },
   {
    "duration": 10,
    "start_time": "2024-05-31T00:01:33.327Z"
   },
   {
    "duration": 15,
    "start_time": "2024-05-31T00:01:33.341Z"
   },
   {
    "duration": 15,
    "start_time": "2024-05-31T00:01:33.360Z"
   },
   {
    "duration": 4,
    "start_time": "2024-05-31T00:01:33.422Z"
   },
   {
    "duration": 6,
    "start_time": "2024-05-31T00:01:33.429Z"
   },
   {
    "duration": 20,
    "start_time": "2024-05-31T00:01:33.439Z"
   },
   {
    "duration": 21,
    "start_time": "2024-05-31T00:01:33.462Z"
   },
   {
    "duration": 67,
    "start_time": "2024-05-31T00:01:33.487Z"
   },
   {
    "duration": 65,
    "start_time": "2024-05-31T00:01:33.558Z"
   },
   {
    "duration": 5,
    "start_time": "2024-05-31T00:01:33.629Z"
   },
   {
    "duration": 10,
    "start_time": "2024-05-31T00:01:33.638Z"
   },
   {
    "duration": 14,
    "start_time": "2024-05-31T00:01:33.651Z"
   },
   {
    "duration": 6,
    "start_time": "2024-05-31T00:01:33.667Z"
   },
   {
    "duration": 5,
    "start_time": "2024-05-31T00:01:33.724Z"
   },
   {
    "duration": 20,
    "start_time": "2024-05-31T00:01:33.733Z"
   },
   {
    "duration": 128,
    "start_time": "2024-05-31T00:01:33.756Z"
   },
   {
    "duration": 7,
    "start_time": "2024-05-31T00:21:36.752Z"
   },
   {
    "duration": 4,
    "start_time": "2024-05-31T00:24:32.625Z"
   },
   {
    "duration": 181,
    "start_time": "2024-05-31T00:25:02.144Z"
   },
   {
    "duration": 5,
    "start_time": "2024-05-31T00:26:15.194Z"
   },
   {
    "duration": 91,
    "start_time": "2024-05-31T00:26:20.852Z"
   },
   {
    "duration": 5,
    "start_time": "2024-05-31T00:26:31.447Z"
   },
   {
    "duration": 4270,
    "start_time": "2024-05-31T00:26:47.795Z"
   },
   {
    "duration": 1677,
    "start_time": "2024-05-31T00:26:52.070Z"
   },
   {
    "duration": 16,
    "start_time": "2024-05-31T00:26:53.751Z"
   },
   {
    "duration": 21,
    "start_time": "2024-05-31T00:26:53.772Z"
   },
   {
    "duration": 29,
    "start_time": "2024-05-31T00:26:53.797Z"
   },
   {
    "duration": 16,
    "start_time": "2024-05-31T00:26:53.830Z"
   },
   {
    "duration": 17,
    "start_time": "2024-05-31T00:26:53.850Z"
   },
   {
    "duration": 6,
    "start_time": "2024-05-31T00:26:53.870Z"
   },
   {
    "duration": 7,
    "start_time": "2024-05-31T00:26:53.924Z"
   },
   {
    "duration": 20,
    "start_time": "2024-05-31T00:26:53.937Z"
   },
   {
    "duration": 11,
    "start_time": "2024-05-31T00:26:53.960Z"
   },
   {
    "duration": 4,
    "start_time": "2024-05-31T00:26:53.974Z"
   },
   {
    "duration": 32,
    "start_time": "2024-05-31T00:26:54.024Z"
   },
   {
    "duration": 365,
    "start_time": "2024-05-31T00:26:54.059Z"
   },
   {
    "duration": 5145,
    "start_time": "2024-05-31T00:26:54.428Z"
   },
   {
    "duration": 4,
    "start_time": "2024-05-31T00:26:59.577Z"
   },
   {
    "duration": 23,
    "start_time": "2024-05-31T00:26:59.584Z"
   },
   {
    "duration": 25,
    "start_time": "2024-05-31T00:26:59.610Z"
   },
   {
    "duration": 16,
    "start_time": "2024-05-31T00:26:59.638Z"
   },
   {
    "duration": 4,
    "start_time": "2024-05-31T00:26:59.657Z"
   },
   {
    "duration": 5,
    "start_time": "2024-05-31T00:26:59.665Z"
   },
   {
    "duration": 72,
    "start_time": "2024-05-31T00:26:59.674Z"
   },
   {
    "duration": 22,
    "start_time": "2024-05-31T00:26:59.750Z"
   },
   {
    "duration": 68,
    "start_time": "2024-05-31T00:26:59.775Z"
   },
   {
    "duration": 37,
    "start_time": "2024-05-31T00:26:59.846Z"
   },
   {
    "duration": 6,
    "start_time": "2024-05-31T00:26:59.886Z"
   },
   {
    "duration": 10,
    "start_time": "2024-05-31T00:26:59.924Z"
   },
   {
    "duration": 4,
    "start_time": "2024-05-31T00:26:59.944Z"
   },
   {
    "duration": 6,
    "start_time": "2024-05-31T00:26:59.952Z"
   },
   {
    "duration": 8,
    "start_time": "2024-05-31T00:26:59.962Z"
   },
   {
    "duration": 176,
    "start_time": "2024-05-31T00:26:59.973Z"
   },
   {
    "duration": 7,
    "start_time": "2024-05-31T00:27:00.152Z"
   },
   {
    "duration": 5,
    "start_time": "2024-05-31T00:27:00.162Z"
   },
   {
    "duration": 585,
    "start_time": "2024-05-31T00:27:00.169Z"
   },
   {
    "duration": 0,
    "start_time": "2024-05-31T00:27:00.758Z"
   },
   {
    "duration": 0,
    "start_time": "2024-05-31T00:27:00.763Z"
   },
   {
    "duration": 0,
    "start_time": "2024-05-31T00:27:00.765Z"
   },
   {
    "duration": 6,
    "start_time": "2024-05-31T00:30:25.604Z"
   },
   {
    "duration": 6,
    "start_time": "2024-05-31T00:30:32.381Z"
   },
   {
    "duration": 62,
    "start_time": "2024-05-31T00:30:35.582Z"
   },
   {
    "duration": 9,
    "start_time": "2024-05-31T00:31:20.851Z"
   },
   {
    "duration": 21,
    "start_time": "2024-05-31T00:31:27.330Z"
   },
   {
    "duration": 5,
    "start_time": "2024-05-31T00:31:44.492Z"
   },
   {
    "duration": 17,
    "start_time": "2024-05-31T00:31:45.901Z"
   },
   {
    "duration": 29,
    "start_time": "2024-05-31T00:35:57.960Z"
   },
   {
    "duration": 4024,
    "start_time": "2024-05-31T01:50:11.647Z"
   },
   {
    "duration": 1593,
    "start_time": "2024-05-31T01:50:15.677Z"
   },
   {
    "duration": 18,
    "start_time": "2024-05-31T01:50:17.273Z"
   },
   {
    "duration": 16,
    "start_time": "2024-05-31T01:50:17.296Z"
   },
   {
    "duration": 6,
    "start_time": "2024-05-31T01:50:17.315Z"
   },
   {
    "duration": 18,
    "start_time": "2024-05-31T01:50:17.324Z"
   },
   {
    "duration": 56,
    "start_time": "2024-05-31T01:50:17.345Z"
   },
   {
    "duration": 5,
    "start_time": "2024-05-31T01:50:17.404Z"
   },
   {
    "duration": 7,
    "start_time": "2024-05-31T01:50:17.412Z"
   },
   {
    "duration": 21,
    "start_time": "2024-05-31T01:50:17.426Z"
   },
   {
    "duration": 10,
    "start_time": "2024-05-31T01:50:17.493Z"
   },
   {
    "duration": 3,
    "start_time": "2024-05-31T01:50:17.507Z"
   },
   {
    "duration": 29,
    "start_time": "2024-05-31T01:50:17.513Z"
   },
   {
    "duration": 362,
    "start_time": "2024-05-31T01:50:17.545Z"
   },
   {
    "duration": 5012,
    "start_time": "2024-05-31T01:50:17.915Z"
   },
   {
    "duration": 4,
    "start_time": "2024-05-31T01:50:22.931Z"
   },
   {
    "duration": 7,
    "start_time": "2024-05-31T01:50:22.939Z"
   },
   {
    "duration": 45,
    "start_time": "2024-05-31T01:50:22.951Z"
   },
   {
    "duration": 15,
    "start_time": "2024-05-31T01:50:22.999Z"
   },
   {
    "duration": 3,
    "start_time": "2024-05-31T01:50:23.018Z"
   },
   {
    "duration": 4,
    "start_time": "2024-05-31T01:50:23.024Z"
   },
   {
    "duration": 59,
    "start_time": "2024-05-31T01:50:23.032Z"
   },
   {
    "duration": 19,
    "start_time": "2024-05-31T01:50:23.094Z"
   },
   {
    "duration": 33,
    "start_time": "2024-05-31T01:50:23.116Z"
   },
   {
    "duration": 67,
    "start_time": "2024-05-31T01:50:23.152Z"
   },
   {
    "duration": 5,
    "start_time": "2024-05-31T01:50:23.222Z"
   },
   {
    "duration": 9,
    "start_time": "2024-05-31T01:50:23.230Z"
   },
   {
    "duration": 5,
    "start_time": "2024-05-31T01:50:23.247Z"
   },
   {
    "duration": 7,
    "start_time": "2024-05-31T01:50:23.291Z"
   },
   {
    "duration": 9,
    "start_time": "2024-05-31T01:50:23.301Z"
   },
   {
    "duration": 132,
    "start_time": "2024-05-31T01:50:23.315Z"
   },
   {
    "duration": 7,
    "start_time": "2024-05-31T01:50:23.450Z"
   },
   {
    "duration": 29,
    "start_time": "2024-05-31T01:50:23.462Z"
   },
   {
    "duration": 20,
    "start_time": "2024-05-31T01:50:23.495Z"
   },
   {
    "duration": 70,
    "start_time": "2024-05-31T01:50:23.519Z"
   },
   {
    "duration": 7,
    "start_time": "2024-05-31T01:50:23.596Z"
   },
   {
    "duration": 15,
    "start_time": "2024-05-31T01:50:23.605Z"
   },
   {
    "duration": 5,
    "start_time": "2024-05-31T01:50:47.636Z"
   },
   {
    "duration": 417,
    "start_time": "2024-05-31T01:53:46.242Z"
   },
   {
    "duration": 9,
    "start_time": "2024-05-31T01:55:11.760Z"
   },
   {
    "duration": 5700,
    "start_time": "2024-05-31T07:43:07.504Z"
   },
   {
    "duration": 5843,
    "start_time": "2024-05-31T07:43:13.208Z"
   },
   {
    "duration": 16,
    "start_time": "2024-05-31T07:43:19.056Z"
   },
   {
    "duration": 19,
    "start_time": "2024-05-31T07:43:19.076Z"
   },
   {
    "duration": 27,
    "start_time": "2024-05-31T07:43:19.099Z"
   },
   {
    "duration": 20,
    "start_time": "2024-05-31T07:43:19.130Z"
   },
   {
    "duration": 24,
    "start_time": "2024-05-31T07:43:19.153Z"
   },
   {
    "duration": 43,
    "start_time": "2024-05-31T07:43:19.180Z"
   },
   {
    "duration": 7,
    "start_time": "2024-05-31T07:43:19.227Z"
   },
   {
    "duration": 21,
    "start_time": "2024-05-31T07:43:19.244Z"
   },
   {
    "duration": 56,
    "start_time": "2024-05-31T07:43:19.268Z"
   },
   {
    "duration": 4,
    "start_time": "2024-05-31T07:43:19.327Z"
   },
   {
    "duration": 35,
    "start_time": "2024-05-31T07:43:19.334Z"
   },
   {
    "duration": 420,
    "start_time": "2024-05-31T07:43:19.372Z"
   },
   {
    "duration": 5740,
    "start_time": "2024-05-31T07:43:19.795Z"
   },
   {
    "duration": 5,
    "start_time": "2024-05-31T07:43:25.539Z"
   },
   {
    "duration": 8,
    "start_time": "2024-05-31T07:43:25.548Z"
   },
   {
    "duration": 16,
    "start_time": "2024-05-31T07:43:25.560Z"
   },
   {
    "duration": 60,
    "start_time": "2024-05-31T07:43:25.579Z"
   },
   {
    "duration": 7,
    "start_time": "2024-05-31T07:43:25.647Z"
   },
   {
    "duration": 8,
    "start_time": "2024-05-31T07:43:25.658Z"
   },
   {
    "duration": 53,
    "start_time": "2024-05-31T07:43:25.670Z"
   },
   {
    "duration": 28,
    "start_time": "2024-05-31T07:43:25.727Z"
   },
   {
    "duration": 37,
    "start_time": "2024-05-31T07:43:25.759Z"
   },
   {
    "duration": 35,
    "start_time": "2024-05-31T07:43:25.824Z"
   },
   {
    "duration": 7,
    "start_time": "2024-05-31T07:43:25.863Z"
   },
   {
    "duration": 11,
    "start_time": "2024-05-31T07:43:25.873Z"
   },
   {
    "duration": 7,
    "start_time": "2024-05-31T07:43:25.925Z"
   },
   {
    "duration": 6,
    "start_time": "2024-05-31T07:43:25.938Z"
   },
   {
    "duration": 9,
    "start_time": "2024-05-31T07:43:25.949Z"
   },
   {
    "duration": 140,
    "start_time": "2024-05-31T07:43:25.962Z"
   },
   {
    "duration": 7,
    "start_time": "2024-05-31T07:43:26.122Z"
   },
   {
    "duration": 10,
    "start_time": "2024-05-31T07:43:26.133Z"
   },
   {
    "duration": 17,
    "start_time": "2024-05-31T07:43:26.146Z"
   },
   {
    "duration": 58,
    "start_time": "2024-05-31T07:43:26.168Z"
   },
   {
    "duration": 6,
    "start_time": "2024-05-31T07:43:26.229Z"
   },
   {
    "duration": 9,
    "start_time": "2024-05-31T07:43:26.240Z"
   },
   {
    "duration": 72,
    "start_time": "2024-05-31T07:43:26.254Z"
   },
   {
    "duration": 23,
    "start_time": "2024-05-31T07:57:23.919Z"
   },
   {
    "duration": 9,
    "start_time": "2024-05-31T08:00:05.905Z"
   },
   {
    "duration": 6,
    "start_time": "2024-05-31T08:04:03.088Z"
   },
   {
    "duration": 7,
    "start_time": "2024-05-31T08:04:58.994Z"
   },
   {
    "duration": 8,
    "start_time": "2024-05-31T08:07:24.272Z"
   },
   {
    "duration": 7,
    "start_time": "2024-05-31T08:13:27.862Z"
   },
   {
    "duration": 8,
    "start_time": "2024-05-31T08:15:07.199Z"
   },
   {
    "duration": 7,
    "start_time": "2024-05-31T08:15:34.871Z"
   },
   {
    "duration": 5,
    "start_time": "2024-05-31T08:18:17.754Z"
   },
   {
    "duration": 588,
    "start_time": "2024-05-31T08:18:37.619Z"
   },
   {
    "duration": 7,
    "start_time": "2024-05-31T08:19:55.576Z"
   },
   {
    "duration": 33,
    "start_time": "2024-05-31T08:23:21.419Z"
   },
   {
    "duration": 31,
    "start_time": "2024-05-31T08:34:10.156Z"
   },
   {
    "duration": 35,
    "start_time": "2024-05-31T08:34:35.688Z"
   },
   {
    "duration": 4403,
    "start_time": "2024-06-01T20:13:01.632Z"
   },
   {
    "duration": 5236,
    "start_time": "2024-06-01T20:13:06.039Z"
   },
   {
    "duration": 23,
    "start_time": "2024-06-01T20:13:11.278Z"
   },
   {
    "duration": 17,
    "start_time": "2024-06-01T20:13:11.306Z"
   },
   {
    "duration": 11,
    "start_time": "2024-06-01T20:13:11.326Z"
   },
   {
    "duration": 19,
    "start_time": "2024-06-01T20:13:11.344Z"
   },
   {
    "duration": 17,
    "start_time": "2024-06-01T20:13:11.366Z"
   },
   {
    "duration": 5,
    "start_time": "2024-06-01T20:13:11.388Z"
   },
   {
    "duration": 11,
    "start_time": "2024-06-01T20:13:11.435Z"
   },
   {
    "duration": 24,
    "start_time": "2024-06-01T20:13:11.454Z"
   },
   {
    "duration": 11,
    "start_time": "2024-06-01T20:13:11.481Z"
   },
   {
    "duration": 37,
    "start_time": "2024-06-01T20:13:11.496Z"
   },
   {
    "duration": 33,
    "start_time": "2024-06-01T20:13:11.536Z"
   },
   {
    "duration": 366,
    "start_time": "2024-06-01T20:13:11.575Z"
   },
   {
    "duration": 4942,
    "start_time": "2024-06-01T20:13:11.945Z"
   },
   {
    "duration": 4,
    "start_time": "2024-06-01T20:13:16.890Z"
   },
   {
    "duration": 7,
    "start_time": "2024-06-01T20:13:16.897Z"
   },
   {
    "duration": 17,
    "start_time": "2024-06-01T20:13:16.933Z"
   },
   {
    "duration": 19,
    "start_time": "2024-06-01T20:13:16.953Z"
   },
   {
    "duration": 4,
    "start_time": "2024-06-01T20:13:16.976Z"
   },
   {
    "duration": 4,
    "start_time": "2024-06-01T20:13:16.983Z"
   },
   {
    "duration": 60,
    "start_time": "2024-06-01T20:13:16.991Z"
   },
   {
    "duration": 19,
    "start_time": "2024-06-01T20:13:17.054Z"
   },
   {
    "duration": 64,
    "start_time": "2024-06-01T20:13:17.077Z"
   },
   {
    "duration": 42,
    "start_time": "2024-06-01T20:13:17.144Z"
   },
   {
    "duration": 5,
    "start_time": "2024-06-01T20:13:17.189Z"
   },
   {
    "duration": 36,
    "start_time": "2024-06-01T20:13:17.197Z"
   },
   {
    "duration": 5,
    "start_time": "2024-06-01T20:13:17.240Z"
   },
   {
    "duration": 5,
    "start_time": "2024-06-01T20:13:17.248Z"
   },
   {
    "duration": 7,
    "start_time": "2024-06-01T20:13:17.256Z"
   },
   {
    "duration": 153,
    "start_time": "2024-06-01T20:13:17.266Z"
   },
   {
    "duration": 7,
    "start_time": "2024-06-01T20:13:17.434Z"
   },
   {
    "duration": 5,
    "start_time": "2024-06-01T20:13:17.445Z"
   },
   {
    "duration": 21,
    "start_time": "2024-06-01T20:13:17.735Z"
   },
   {
    "duration": 531,
    "start_time": "2024-06-01T20:19:47.078Z"
   },
   {
    "duration": 5,
    "start_time": "2024-06-01T20:19:50.809Z"
   },
   {
    "duration": 15,
    "start_time": "2024-06-01T20:19:51.143Z"
   },
   {
    "duration": 21,
    "start_time": "2024-06-01T20:20:09.041Z"
   },
   {
    "duration": 15,
    "start_time": "2024-06-01T20:20:37.063Z"
   },
   {
    "duration": 4,
    "start_time": "2024-06-01T20:20:54.125Z"
   },
   {
    "duration": 7,
    "start_time": "2024-06-01T20:21:10.188Z"
   },
   {
    "duration": 5,
    "start_time": "2024-06-01T20:30:38.066Z"
   },
   {
    "duration": 6,
    "start_time": "2024-06-01T20:30:41.818Z"
   },
   {
    "duration": 4,
    "start_time": "2024-06-01T20:31:01.858Z"
   },
   {
    "duration": 7,
    "start_time": "2024-06-01T20:35:28.657Z"
   },
   {
    "duration": 3,
    "start_time": "2024-06-01T20:36:30.757Z"
   },
   {
    "duration": 6,
    "start_time": "2024-06-01T20:36:38.498Z"
   },
   {
    "duration": 164,
    "start_time": "2024-06-01T20:50:33.180Z"
   },
   {
    "duration": 5,
    "start_time": "2024-06-01T20:52:00.123Z"
   },
   {
    "duration": 15,
    "start_time": "2024-06-01T20:52:00.577Z"
   },
   {
    "duration": 4,
    "start_time": "2024-06-01T20:52:01.757Z"
   },
   {
    "duration": 5,
    "start_time": "2024-06-01T20:52:07.065Z"
   },
   {
    "duration": 6,
    "start_time": "2024-06-01T20:52:11.576Z"
   },
   {
    "duration": 7,
    "start_time": "2024-06-01T20:52:32.224Z"
   },
   {
    "duration": 6,
    "start_time": "2024-06-01T20:52:38.368Z"
   },
   {
    "duration": 7,
    "start_time": "2024-06-01T20:54:05.795Z"
   },
   {
    "duration": 7,
    "start_time": "2024-06-01T20:54:21.138Z"
   },
   {
    "duration": 6,
    "start_time": "2024-06-01T20:59:44.308Z"
   },
   {
    "duration": 3,
    "start_time": "2024-06-01T20:59:47.513Z"
   },
   {
    "duration": 5,
    "start_time": "2024-06-01T20:59:54.547Z"
   },
   {
    "duration": 15,
    "start_time": "2024-06-01T20:59:54.760Z"
   },
   {
    "duration": 6,
    "start_time": "2024-06-01T20:59:54.916Z"
   },
   {
    "duration": 5,
    "start_time": "2024-06-01T20:59:55.225Z"
   },
   {
    "duration": 8,
    "start_time": "2024-06-01T20:59:55.382Z"
   },
   {
    "duration": 4,
    "start_time": "2024-06-01T20:59:56.083Z"
   },
   {
    "duration": 5,
    "start_time": "2024-06-01T20:59:56.422Z"
   },
   {
    "duration": 7,
    "start_time": "2024-06-01T20:59:56.833Z"
   },
   {
    "duration": 7,
    "start_time": "2024-06-01T20:59:58.642Z"
   },
   {
    "duration": 6,
    "start_time": "2024-06-01T21:02:27.818Z"
   },
   {
    "duration": 6,
    "start_time": "2024-06-01T21:02:38.557Z"
   },
   {
    "duration": 6,
    "start_time": "2024-06-01T21:03:03.948Z"
   },
   {
    "duration": 6,
    "start_time": "2024-06-01T21:03:40.476Z"
   },
   {
    "duration": 6,
    "start_time": "2024-06-01T21:04:18.874Z"
   },
   {
    "duration": 6,
    "start_time": "2024-06-01T21:04:32.437Z"
   },
   {
    "duration": 6,
    "start_time": "2024-06-01T21:05:15.601Z"
   },
   {
    "duration": 6,
    "start_time": "2024-06-01T21:05:55.162Z"
   },
   {
    "duration": 7,
    "start_time": "2024-06-01T21:50:01.053Z"
   },
   {
    "duration": 5,
    "start_time": "2024-06-01T21:50:19.469Z"
   },
   {
    "duration": 19,
    "start_time": "2024-06-01T22:00:22.576Z"
   },
   {
    "duration": 7,
    "start_time": "2024-06-01T23:03:03.236Z"
   },
   {
    "duration": 18,
    "start_time": "2024-06-01T23:06:02.578Z"
   },
   {
    "duration": 7,
    "start_time": "2024-06-01T23:08:24.393Z"
   },
   {
    "duration": 6,
    "start_time": "2024-06-01T23:10:28.118Z"
   },
   {
    "duration": 23,
    "start_time": "2024-06-01T23:10:37.047Z"
   },
   {
    "duration": 6,
    "start_time": "2024-06-01T23:10:45.891Z"
   },
   {
    "duration": 7,
    "start_time": "2024-06-01T23:10:54.519Z"
   },
   {
    "duration": 6,
    "start_time": "2024-06-01T23:11:03.930Z"
   },
   {
    "duration": 6,
    "start_time": "2024-06-01T23:16:11.669Z"
   },
   {
    "duration": 80,
    "start_time": "2024-06-01T23:19:24.254Z"
   },
   {
    "duration": 10,
    "start_time": "2024-06-01T23:20:29.148Z"
   },
   {
    "duration": 30,
    "start_time": "2024-06-01T23:22:05.041Z"
   },
   {
    "duration": 6,
    "start_time": "2024-06-01T23:23:07.821Z"
   },
   {
    "duration": 23,
    "start_time": "2024-06-01T23:23:26.047Z"
   },
   {
    "duration": 5,
    "start_time": "2024-06-01T23:23:38.776Z"
   },
   {
    "duration": 40,
    "start_time": "2024-06-01T23:24:10.043Z"
   },
   {
    "duration": 37,
    "start_time": "2024-06-01T23:24:21.187Z"
   },
   {
    "duration": 7,
    "start_time": "2024-06-01T23:25:06.802Z"
   }
  ],
  "kernelspec": {
   "display_name": "Python 3 (ipykernel)",
   "language": "python",
   "name": "python3"
  },
  "language_info": {
   "codemirror_mode": {
    "name": "ipython",
    "version": 3
   },
   "file_extension": ".py",
   "mimetype": "text/x-python",
   "name": "python",
   "nbconvert_exporter": "python",
   "pygments_lexer": "ipython3",
   "version": "3.11.5"
  },
  "toc": {
   "base_numbering": 1,
   "nav_menu": {},
   "number_sections": true,
   "sideBar": true,
   "skip_h1_title": true,
   "title_cell": "Table of Contents",
   "title_sidebar": "Contents",
   "toc_cell": false,
   "toc_position": {},
   "toc_section_display": true,
   "toc_window_display": false
  }
 },
 "nbformat": 4,
 "nbformat_minor": 4
}
